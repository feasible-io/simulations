{
 "cells": [
  {
   "cell_type": "code",
   "execution_count": null,
   "id": "ead36527",
   "metadata": {},
   "outputs": [],
   "source": [
    "import numpy as np\n",
    "import pandas as pd\n",
    "import matplotlib.pyplot as plt\n",
    "import matplotlib.animation as animation\n",
    "\n",
    "import scipy.signal as spsig\n",
    "import scipy.ndimage as spimg\n",
    "import h5py as h5\n",
    "# import Pulse as pulse\n",
    "import glob\n",
    "import itertools as itools\n",
    "import functools as ftools\n",
    "\n",
    "# logging and flow control\n",
    "from logzero import logger\n",
    "import multiprocessing\n",
    "\n",
    "# jwave imports\n",
    "from jwave.geometry import Domain, Medium, TimeAxis, Sources, sphere_mask, circ_mask\n",
    "import jax.numpy as jnp\n",
    "from jax import jit\n",
    "from jwave import FourierSeries\n",
    "from jwave.utils import show_field\n",
    "import jax\n",
    "\n",
    "from jax import jit\n",
    "from jax import numpy as jnp\n",
    "from jaxdf import FourierSeries\n",
    "from matplotlib import pyplot as plt\n",
    "\n",
    "from jwave.acoustics import simulate_wave_propagation\n",
    "from jwave.geometry import *\n",
    "\n",
    "import Pulse as pulse\n",
    "\n",
    "# pyvista/meshing imports\n",
    "import pyvista as pv"
   ]
  },
  {
   "cell_type": "code",
   "execution_count": null,
   "id": "0ffafb06",
   "metadata": {},
   "outputs": [],
   "source": [
    "jax.config.update('jax_default_device', jax.devices('cpu')[0])\n",
    "jax.config.update( 'jax_enable_x64', False )\n",
    "%matplotlib widget"
   ]
  },
  {
   "cell_type": "markdown",
   "id": "c9b926ab",
   "metadata": {},
   "source": [
    "# User edit\n",
    "You should not have to change anyting beyond the next cell. "
   ]
  },
  {
   "cell_type": "code",
   "execution_count": null,
   "id": "55a91be8",
   "metadata": {},
   "outputs": [],
   "source": [
    "############## user edit #######################\n",
    "\n",
    "meshfile = './AcrylicWedge.stl'\n",
    "maskfile = './BaselineHires3D.h5'\n",
    "string_handle = 'Azimuthal'\n",
    "padding_fraction = 0.1\n",
    "num_points_along_largest_dimension = 800\n",
    "pml_fraction = 0.5 # fraction of the buffer region outside the object used as PML\n",
    "\n",
    "# multiprocess parameters\n",
    "num_processes = 10\n",
    "\n",
    "# material properties\n",
    "materials = [ 'steel', 'acrylic', 'air', 'roll' ]\n",
    "speeds = [ 5500., 2730., 341., 1041.865 ]\n",
    "densities = [ 7850., 1180., 1.293, 1933.949 ] # jelly roll parameters for SOC = 0.3\n",
    "\n",
    "# can/cell geometry\n",
    "can_thickness = 0.16\n",
    "can_center = 21.5\n",
    "can_radius = 10.5\n",
    "can_height = 70.\n",
    "roll_inner_radius = 2.\n",
    "cathode_location = -3.*np.pi/4. + TEMPLATE.*( np.pi/2. / 17. )  \n",
    "cathode_thickness = 0.3 \n",
    "cathode_wrapping_sense = 1.\n",
    "\n",
    "# pulse characteristics\n",
    "input_pulse_file = '/home/smaddali/simulations/input_signal.csv'\n",
    "center_frequency = 2.e6 # Hz\n",
    "pulse_hg_order = 3 # order of the Hermite-Gauss pulse\n",
    "simulation_time = 30.e-6 # we simulate only 30 us for now, a little beyond what we currently measure.\n",
    "c_mult = 0.05   # multiplier for max. Courant factor, to prevent diverging simulation. \n",
    "\n",
    "# azimuthal source details (this is a line source)\n",
    "x_loc1 = [ -5., 5. ] # range of line source\n",
    "y_loc1 = -11. \n",
    "# n_oscillators = 35\n",
    "\n",
    "# axial source details (focus)\n",
    "y_loc2, z_loc2 = -11., 10.\n",
    "focal_length = 11.\n",
    "num_elements = 32\n",
    "element_separation = 0.3 # mm in Y\n",
    "\n",
    "# display/visualization parameters\n",
    "csf = 5. # color scale factor\n",
    "frame_skip = 5\n",
    "\n",
    "################################################"
   ]
  },
  {
   "cell_type": "markdown",
   "id": "e3a6d6df",
   "metadata": {},
   "source": [
    "# Stop!\n",
    "Don't edit anything beyond this cell, unless you know what you're doing. "
   ]
  },
  {
   "cell_type": "markdown",
   "id": "5a39da67",
   "metadata": {},
   "source": [
    "# Acoustic impedance and reflectivity"
   ]
  },
  {
   "cell_type": "code",
   "execution_count": null,
   "id": "8cf5d082",
   "metadata": {},
   "outputs": [],
   "source": [
    "list( itools.combinations( materials, 2 )  )"
   ]
  },
  {
   "cell_type": "code",
   "execution_count": null,
   "id": "8d3bcc6b",
   "metadata": {},
   "outputs": [],
   "source": [
    "material_properties = { key: [ val1, val2 ] for key, val1, val2 in zip( materials, speeds, densities ) }\n",
    "reflectivity = { \n",
    "    key: ( np.prod( material_properties[ key[0] ] ) - np.prod( material_properties[ key[1] ] ) ) / ( np.prod( material_properties[ key[0] ] ) + np.prod( material_properties[ key[1] ] ) )\n",
    "    for key in list( itools.combinations( materials, 2 ) )\n",
    "}"
   ]
  },
  {
   "cell_type": "code",
   "execution_count": null,
   "id": "2bee0344",
   "metadata": {},
   "outputs": [],
   "source": [
    "material_properties"
   ]
  },
  {
   "cell_type": "code",
   "execution_count": null,
   "id": "5b323fa9",
   "metadata": {},
   "outputs": [],
   "source": [
    "reflectivity"
   ]
  },
  {
   "cell_type": "markdown",
   "id": "e910c4c2",
   "metadata": {},
   "source": [
    "# Grid details\n",
    "Using the mesh for the acrylic wedge and manually adding the can to it, in order to generate the mask for the wedge-can system. \n",
    "This works better than using the wedge-can mesh because of ambiguous definitions of \"inside\" and \"outside\" of the mesh. "
   ]
  },
  {
   "cell_type": "code",
   "execution_count": null,
   "id": "b2fbab79",
   "metadata": {},
   "outputs": [],
   "source": [
    "# dimensions and grid size calculations\n",
    "mesh = pv.read( meshfile )\n",
    "bounds = np.array( mesh.bounds ).reshape( -1, 2 )\n",
    "\n",
    "# the can is added in the y-direction. \n",
    "bounds[1,1] += 21. # add diameter of can\n",
    "bounds[2,:] = [ -35., 35. ]\n",
    "largest_dimension = np.diff( bounds, axis=1 ).max()\n",
    "excess_padding = largest_dimension * padding_fraction / 2. \n",
    "dx_mm = ( largest_dimension + 2*excess_padding ) / num_points_along_largest_dimension # spatial step size\n",
    "pml_size = np.round( excess_padding * pml_fraction / dx_mm ).astype( int )\n",
    "grid_ranges = [ \n",
    "    np.arange( mn, mx, dx_mm )\n",
    "    for mn, mx in list( \n",
    "        bounds + np.array( [ -excess_padding, excess_padding ] )[np.newaxis,:].repeat( 3, axis=0 )\n",
    "    )\n",
    "]\n",
    "for n in range( len( grid_ranges ) ):\n",
    "    if grid_ranges[n].size%2 != 0: \n",
    "        # grid_ranges[n] = np.concatenate( ( grid_ranges[n], np.array( [ grid_ranges[n][-1] + dx_mm ] ) ) )\n",
    "        grid_ranges[n] = np.linspace( grid_ranges[n].min(), grid_ranges[n].max(), grid_ranges[n].size+1 )\n",
    "\n",
    "dx_final = [ ( ar[1:]-ar[:-1] ).mean() for ar in grid_ranges ]\n",
    "\n",
    "shp = tuple( ar.shape[0] for ar in grid_ranges )\n",
    "shp = ( shp[1], shp[0], shp[2] )\n",
    "logger.info( f'Domain size: {shp} pixels. ' )\n",
    "logger.info( f'PML buffer size: {pml_size} pixels. ')\n",
    "logger.info( f'Step size: {dx_final} mm. ')\n"
   ]
  },
  {
   "cell_type": "code",
   "execution_count": null,
   "id": "141123fa",
   "metadata": {},
   "outputs": [],
   "source": [
    "# # create function that determines if points are inside can\n",
    "def inside_can( pts, center, radius, thickness, height ):\n",
    "    rho = np.sqrt( pts[:,0]**2 + ( pts[:,1]-center )**2 )\n",
    "    return ftools.reduce( np.logical_and, [ rho >= radius - thickness, rho <= radius, np.abs( pts[:,-1] ) < height/2. ] )\n",
    "\n",
    "def jelly_roll_volume( pts, center, radius, radius_inner, thickness, height ):\n",
    "    rho = np.sqrt( pts[:,0]**2 + ( pts[:,1]-center )**2 )\n",
    "    return ftools.reduce( np.logical_and, [ rho < radius - thickness, rho >= radius_inner, np.abs( pts[:,-1] ) < height/2. ] ), rho\n",
    "        \n",
    "def jelly_roll_with_cathode_edge( pts, center, radius, radius_inner, can_thickness, can_height, theta0=0., cathode_thickness=0.1, sense=1 ):\n",
    "    rho = np.sqrt( pts[:,0]**2 + ( pts[:,1]-center )**2 )\n",
    "    R = np.array( [ [ np.cos( theta0 ), np.sin( theta0 ) ], [ np.cos( np.pi/2. + theta0 ), np.sin( np.pi/2. + theta0 ) ] ] )\n",
    "    pts_relative = pts[:,:2] # get 2D points\n",
    "    pts_relative[:,-1] = pts_relative[:,-1] - center\n",
    "    pts_relative = pts_relative.T # make this a 2xN array\n",
    "    pts_proj = R @ pts_relative\n",
    "    theta = np.arctan2( pts_proj[1], pts_proj[0] ) # canonical range from -pi to pi\n",
    "    # dtheta = np.arccos( ( radius - can_thickness - cathode_thickness ) / ( radius - can_thickness ) )\n",
    "    # print( f'dtheta = {dtheta*180/np.pi}' )\n",
    "    inside_roll = ftools.reduce( \n",
    "        np.logical_and, \n",
    "        [\n",
    "            rho < radius - can_thickness, \n",
    "            np.abs( pts[:,-1] ) < can_height/2., \n",
    "            rho >= radius_inner\n",
    "        ]\n",
    "    )\n",
    "    cathode_segment = ftools.reduce( \n",
    "        np.logical_and, \n",
    "        [ \n",
    "            inside_roll,\n",
    "            pts_proj[0] < can_radius - can_thickness - cathode_thickness, \n",
    "            # np.abs( theta ) > dtheta\n",
    "        ]\n",
    "    )\n",
    "    final = ftools.reduce( \n",
    "        np.logical_or, \n",
    "        [ \n",
    "            cathode_segment, \n",
    "            np.logical_and( np.sign( theta )==np.sign( sense ), inside_roll )\n",
    "        ]\n",
    "    )\n",
    "    return final"
   ]
  },
  {
   "cell_type": "markdown",
   "id": "3f755e5c",
   "metadata": {},
   "source": [
    "# Animuthal and axial slices"
   ]
  },
  {
   "cell_type": "code",
   "execution_count": null,
   "id": "e0d50f83",
   "metadata": {},
   "outputs": [],
   "source": [
    "xygrid = np.meshgrid( *( grid_ranges[:2] ) )\n",
    "pts_azim = np.concatenate( tuple( ar.ravel()[:,np.newaxis] for ar in xygrid ), axis=1 )\n",
    "pts_azim = np.concatenate( ( pts_azim, np.zeros( ( pts_azim.shape[0], 1 ) ) ), axis=1 )\n",
    "\n",
    "yzgrid = np.meshgrid( *(grid_ranges[1:] ) )\n",
    "pts_axial = np.concatenate( tuple( ar.ravel()[:,np.newaxis] for ar in yzgrid ), axis=1 )\n",
    "pts_axial = np.concatenate( ( np.zeros( ( pts_axial.shape[0], 1 ) ), pts_axial ), axis=1 )"
   ]
  },
  {
   "cell_type": "code",
   "execution_count": null,
   "id": "d824a741",
   "metadata": {},
   "outputs": [],
   "source": [
    "def get_domain_image( pts, mesh, shape, inside_can_function ):\n",
    "    can_region = inside_can_function( pts ).reshape( shape )\n",
    "    wedge_region = pv.PolyData( pts ).select_enclosed_points( mesh, progress_bar=True )\n",
    "    wedge_region = wedge_region['SelectedPoints'].reshape( shape )\n",
    "    wedge_region = spimg.binary_erosion( spimg.binary_dilation( wedge_region.astype( bool ) ) ).astype( np.uint8 )\n",
    "    im = wedge_region + 2*can_region\n",
    "    im[ np.where( im==3 ) ] = 2\n",
    "    return im\n",
    "\n",
    "\n",
    "inside_can_function = ftools.partial( inside_can, center=can_center, radius=can_radius, thickness=can_thickness, height=can_height )\n",
    "im_azim = get_domain_image( pts_azim, mesh, ( grid_ranges[1].size, grid_ranges[0].size ), inside_can_function )\n",
    "im_axial = get_domain_image( pts_axial, mesh, ( grid_ranges[2].size, grid_ranges[1].size ), inside_can_function )"
   ]
  },
  {
   "cell_type": "code",
   "execution_count": null,
   "id": "4b3a1062",
   "metadata": {},
   "outputs": [],
   "source": [
    "# jr_azim = jelly_roll_volume( pts_azim, can_center, can_radius, roll_inner_radius, can_thickness, can_height )[0].reshape( grid_ranges[1].size, grid_ranges[0].size )\n",
    "jr_azim = jelly_roll_with_cathode_edge( \n",
    "    pts_azim,\n",
    "    can_center, \n",
    "    can_radius, \n",
    "    roll_inner_radius, \n",
    "    can_thickness, \n",
    "    can_height, \n",
    "    theta0=cathode_location, \n",
    "    cathode_thickness=cathode_thickness, \n",
    "    sense=cathode_wrapping_sense\n",
    ").reshape( grid_ranges[1].size, grid_ranges[0].size )\n",
    "assert im_azim.max()==2., 'Rogue pixels in im_azim. '\n",
    "im_azim = im_azim + 3.*jr_azim\n",
    "im_azim[ np.where( np.abs( im_azim-4. ) < 0.5 ) ] = 3.\n",
    "\n",
    "jr_axial = jelly_roll_with_cathode_edge( \n",
    "    pts_axial, \n",
    "    can_center, \n",
    "    can_radius, \n",
    "    roll_inner_radius, \n",
    "    can_thickness, \n",
    "    can_height, \n",
    "    theta0=cathode_location, \n",
    "    cathode_thickness=cathode_thickness, \n",
    "    sense=cathode_wrapping_sense\n",
    ").reshape( grid_ranges[2].size, grid_ranges[1].size )\n",
    "assert im_axial.max()==2., 'Rogue pixels in im_axial. '\n",
    "im_axial = im_axial + 3.*jr_axial\n",
    "im_axial[ np.where( np.abs( im_axial-4. ) < 0.5 ) ] = 3."
   ]
  },
  {
   "cell_type": "code",
   "execution_count": null,
   "id": "a3153dca",
   "metadata": {},
   "outputs": [],
   "source": [
    "fig = plt.figure( figsize=( 7, 6 ) )\n",
    "ax = fig.subplots( 1, 2 )\n",
    "my_cmap = 'hot'\n",
    "\n",
    "ax[0].pcolormesh( grid_ranges[0], grid_ranges[1], im_azim, cmap=my_cmap, alpha=0.5 )\n",
    "# ax[0].contour( grid_ranges[0], grid_ranges[1], spimg.gaussian_filter( im_azim, sigma=1. ), levels=[ 0.15 ], colors='k' )\n",
    "\n",
    "im1 = ax[1].pcolormesh( grid_ranges[1], grid_ranges[2], im_axial, cmap=my_cmap, alpha=0.5 )\n",
    "cbar = fig.colorbar( im1, ax=ax[1], fraction=0.046, pad=0.05 )\n",
    "cbar.set_ticks( [ 0., 1., 2., 3. ] )\n",
    "cbar.set_ticklabels( [ 'Air', 'Wedge', 'Can', 'Jelly roll' ] )\n",
    "# ax[1].contour( grid_ranges[1], grid_ranges[2], spimg.gaussian_filter( im_axial, sigma=1. ), levels=[ 0.15 ], colors='k' )\n",
    "\n",
    "\n",
    "for myax, titl in zip( ax, ['Azimuthal', 'Axial'] ):\n",
    "    myax.axis( 'tight' )\n",
    "    myax.set_title( f'{titl} plane' )\n",
    "\n",
    "plt.suptitle( 'Simulation views', weight='bold' )\n",
    "plt.tight_layout()\n"
   ]
  },
  {
   "cell_type": "markdown",
   "id": "e0ef44ea",
   "metadata": {},
   "source": [
    "# `jwave` definitions\n",
    "\n",
    "## Cross section simulations\n",
    "\n",
    "### Azimuthal"
   ]
  },
  {
   "cell_type": "code",
   "execution_count": null,
   "id": "e8fd84f4",
   "metadata": {},
   "outputs": [],
   "source": [
    "medium_dict = { 0:'air', 1:'acrylic', 2:'steel', 3:'roll' }\n",
    "def get_medium_properties( im, medium_dict ):\n",
    "    def get_region( in_data ):\n",
    "        return ( in_data[0]==in_data[1] )*in_data[2]\n",
    "    sound_speed_map = ftools.reduce( \n",
    "        lambda x, y: x + y, \n",
    "        [ \n",
    "            get_region( [ im, idx, material_properties[ medium_dict[ idx ] ][0] ] )\n",
    "            for idx in np.unique( im )\n",
    "        ]\n",
    "    )\n",
    "    density_map = ftools.reduce( \n",
    "        lambda x, y: x + y, \n",
    "        [ \n",
    "            get_region( [ im, idx, material_properties[ medium_dict[ idx ] ][1] ] )\n",
    "            for idx in np.unique( im )\n",
    "        ]\n",
    "    )\n",
    "    return sound_speed_map, density_map\n",
    "\n",
    "speed_map, density_map = get_medium_properties( im_azim, medium_dict )\n",
    "dx = ( float( dx_final[1] )*1.e-3, float( dx_final[0] )*1.e-3 )\n",
    "domain_azim = Domain( ( shp[0], shp[1] ), dx )\n",
    "speed_field = FourierSeries( jnp.expand_dims( speed_map, axis=-1 ), domain=domain_azim )\n",
    "density_field = FourierSeries( jnp.expand_dims( density_map, axis=-1 ), domain=domain_azim )\n",
    "\n",
    "medium = Medium(domain=domain_azim, sound_speed=speed_field, density=density_field, pml_size=int( pml_size ), attenuation=0.95 )"
   ]
  },
  {
   "cell_type": "code",
   "execution_count": null,
   "id": "00deabd2",
   "metadata": {},
   "outputs": [],
   "source": [
    "# show_field( speed_map )\n",
    "# show_field( density_map )"
   ]
  },
  {
   "cell_type": "code",
   "execution_count": null,
   "id": "bf78ed5e",
   "metadata": {},
   "outputs": [],
   "source": [
    "# with h5.File( 'Sections.h5', 'a' ) as fid: \n",
    "#     fid.create_group( 'azim' )\n",
    "#     fid[ 'azim' ].create_dataset( 'speed_map', data=speed_map )\n",
    "#     fid[ 'azim' ].create_dataset( 'density_map', data=density_map )\n",
    "#     for key, val in { \n",
    "#         'x':grid_ranges[0], \n",
    "#         'y':grid_ranges[1], \n",
    "#         'z':grid_ranges[2]\n",
    "#     }.items():\n",
    "#         fid[ 'azim' ].attrs[ key ] = val"
   ]
  },
  {
   "cell_type": "markdown",
   "id": "0730f1ff",
   "metadata": {},
   "source": [
    "## Time domain"
   ]
  },
  {
   "cell_type": "code",
   "execution_count": null,
   "id": "a6a4659a",
   "metadata": {},
   "outputs": [],
   "source": [
    "# calculating time-domain characteristics of pulse\n",
    "center_wavelength = material_properties[ 'acrylic' ][0] / center_frequency # pulse wavelength\n",
    "period = 1. / center_frequency \n",
    "dx_dv_largest = dx_mm*1.e-3/ min( [ prop[0] for _, prop in material_properties.items() ] )\n",
    "cfl_max = 0.5 * period / dx_dv_largest # courant number\n",
    "cfl = cfl_max * c_mult\n",
    "\n",
    "# time axis object\n",
    "time_axis = TimeAxis.from_medium( medium, cfl=cfl )\n",
    "time_axis.t_end = simulation_time # this is all we are currently measuring\n",
    "\n",
    "# pulse details\n",
    "# input_pulse = pd.read_csv( input_pulse_file )\n",
    "\n",
    "\n",
    "logger.info( f'Dominant frequency: {center_frequency:2e} Hz' )\n",
    "logger.info( f'Dominant_wavelength: {center_wavelength:.2e} m' )\n",
    "logger.info( f'Sample points per dominant wavelength: {int(center_wavelength/(dx_mm*1.e-3))}' )\n",
    "logger.info( f'Dominant time period: {period:.2e} sec' )\n",
    "logger.info( f'Courant factor: {cfl:.2e}' )\n",
    "logger.info( f'Time step: {time_axis.dt:.2e} sec' )\n",
    "\n",
    "t = np.arange( 0., float( time_axis.t_end ), float( time_axis.dt ) )\n",
    "init = pulse.HermiteGauss( t, 1.5*period, period/2., pulse_hg_order )\n",
    "plt.figure()\n",
    "plt.plot( t, init, label=f'Single-element pulse (HG{pulse_hg_order})' )\n",
    "plt.xlabel( 'Simulation time (sec) $\\\\longrightarrow$' ) \n",
    "plt.legend()\n",
    "plt.grid()\n",
    "\n",
    "# create phased array for focused probe\n",
    "# array_extent = element_separation * ( num_elements - 1 )\n",
    "# element_locations = z_loc2 + np.linspace( -array_extent/2., array_extent/2., num_elements )\n",
    "# delta_f = focal_length - np.sqrt( focal_length**2 - ( element_locations - z_loc2 )**2 )\n",
    "# delay = -delta_f * 1.e-3 / material_properties[ 'acrylic' ][0] # time delay in seconds\n",
    "# delay -= delay.min() # generates a focused wavefront \n",
    "# delay_steps = np.round( delay / time_axis.dt ).astype( int )\n",
    "\n",
    "# sources = [ \n",
    "#     np.roll( init, dstep )\n",
    "#     for dstep in delay_steps\n",
    "# ]\n",
    "# positions = [ \n",
    "#     element_locations, \n",
    "#     y_loc2]\n",
    "\n",
    "# plt.figure()\n",
    "# for n, src in enumerate( sources ):\n",
    "#     plt.plot( t, n+src )\n",
    "\n",
    "# sources = Sources( \n",
    "#     positions=( ( y_loc,  ),  ( x_loc, ) ), \n",
    "#     signals=jnp.stack( [ init] ),\n",
    "#     dt=time_axis.dt, \n",
    "#     domain=domain_azim\n",
    "# )"
   ]
  },
  {
   "cell_type": "markdown",
   "id": "b3342faa",
   "metadata": {},
   "source": [
    "# Run simulation"
   ]
  },
  {
   "cell_type": "markdown",
   "id": "00c13c23",
   "metadata": {},
   "source": [
    "## Azimuthal"
   ]
  },
  {
   "cell_type": "code",
   "execution_count": null,
   "id": "be661bb7",
   "metadata": {},
   "outputs": [],
   "source": [
    "# xloc_w = np.linspace( x_loc1[0], x_loc1[1], n_oscillators )\n",
    "# xloc = np.unique( np.round( grid_ranges[0].size * ( xloc_w - grid_ranges[0].min() ) / ( grid_ranges[0].max() - grid_ranges[0].min() ) ).astype( int ) )\n",
    "\n",
    "xloc = np.round( grid_ranges[0].size * ( x_loc1 - grid_ranges[0].min() ) / ( grid_ranges[0].max() - grid_ranges[0].min() ) ).astype( int )\n",
    "xloc = np.arange( xloc[0], 1+xloc[1] )\n",
    "yloc = 1 + np.array( [ np.argmin( np.abs( grid_ranges[1] - y_loc1 ) ) ]*xloc.size )\n",
    "\n",
    "# print( xloc, yloc )\n",
    "\n",
    "sources = Sources( \n",
    "    positions=( yloc, xloc ), \n",
    "    signals=jnp.stack( [ init ]*yloc.size ),\n",
    "    dt=time_axis.dt, \n",
    "    domain=domain_azim\n",
    ")"
   ]
  },
  {
   "cell_type": "code",
   "execution_count": null,
   "id": "af81a4b2",
   "metadata": {},
   "outputs": [],
   "source": [
    "@jit\n",
    "def compiled_simulator( sources ):\n",
    "    return simulate_wave_propagation( medium, time_axis, sources=sources )"
   ]
  },
  {
   "cell_type": "code",
   "execution_count": null,
   "id": "c3f1f38f",
   "metadata": {},
   "outputs": [],
   "source": [
    "pressure = compiled_simulator( sources )\n",
    "pres = np.squeeze( pressure.on_grid )\n",
    "logger.info( f'Simulation size: {pres.shape}' )\n",
    "pmax = min( np.abs( pres.min() ), np.abs( pres.max() ) )\n",
    "pmin = -pmax"
   ]
  },
  {
   "cell_type": "code",
   "execution_count": null,
   "id": "e9b79dde",
   "metadata": {},
   "outputs": [],
   "source": [
    "print( pmin, pmax )"
   ]
  },
  {
   "cell_type": "code",
   "execution_count": null,
   "id": "e94c912c",
   "metadata": {},
   "outputs": [],
   "source": [
    "with h5.File( f'JR_cathode_edge_30us_linesource_thetascan_TEMPLATE.h5', 'w' ) as fid: \n",
    "    fid.create_dataset( 'image', data=im_azim )\n",
    "    fid.create_dataset( 'pressure', data=pres[::frame_skip,:,:] )\n",
    "    for key, val in {\n",
    "        'x':grid_ranges[0], \n",
    "        'y':grid_ranges[1], \n",
    "        'xloc':xloc, \n",
    "        'yloc':yloc, \n",
    "        'my_cmap':my_cmap, \n",
    "        'pmin':pmin, \n",
    "        'pmax':pmax,\n",
    "        'csf':csf, \n",
    "        't':t[::frame_skip], \n",
    "        'time_steps':t[::frame_skip].size, \n",
    "        'dt':time_axis.dt*frame_skip\n",
    "    }.items():\n",
    "        fid[ 'pressure' ].attrs[ key ] = val \n"
   ]
  },
  {
   "cell_type": "markdown",
   "id": "c7d39e42",
   "metadata": {},
   "source": [
    "# Visualization"
   ]
  },
  {
   "cell_type": "code",
   "execution_count": null,
   "id": "f7d1f1b4",
   "metadata": {},
   "outputs": [],
   "source": [
    "# fig = plt.figure( figsize=( 14, 5 ) )\n",
    "# ax = fig.subplots( 1, 2 )\n",
    "# # ax[0].contour( im_azim, levels=[ 0.5 ], colors='black' )\n",
    "# ax[0].pcolormesh( np.arange( grid_ranges[0].size ), np.arange( grid_ranges[1].size ), im_azim, cmap=my_cmap, alpha=0.25 )\n",
    "# fld = ax[0].imshow( pres[-100,:,:], origin='lower', cmap='seismic' )\n",
    "# ax[0].plot( xloc, yloc, '^k', markersize=3, label='Source' )\n",
    "# fld.set_clim( [ pmin/csf, pmax/csf ] )\n",
    "# ax[0].axis( 'equal' )\n",
    "# ax[0].axis( 'square' )\n",
    "# titl = ax[0].set_title( 'Pressure wave at time step 0' )\n",
    "# ax[0].legend()\n",
    "\n",
    "# ax[1].plot( t/1.e-6, pres[:,yloc+4, xloc] )\n",
    "# ax[1].axis( 'tight' )\n",
    "# ax[1].grid()\n",
    "# ax[1].set_title( '2D pulse echo signal' )\n",
    "# plt.suptitle( f'{string_handle} wave profile ({center_frequency/1.e6} MHz pulse)', weight='bold' )\n",
    "\n",
    "\n",
    "# plt.tight_layout()\n",
    "\n",
    "# # def animate( n ):\n",
    "# #     fld.set_data( pres[n,:,:] )\n",
    "# #     fld.set_clim( [ pmin/csf, pmax/csf ] )\n",
    "# #     titl.set_text( f'Pressure wave at time {(n*time_axis.dt/1.e-6):.2e} us' )\n",
    "# #     return fld,\n",
    "\n",
    "# # ani = animation.FuncAnimation( fig, animate, interval=10, frames=pres.shape[0], blit=False, repeat=False )\n",
    "# # plt.show()"
   ]
  }
 ],
 "metadata": {
  "kernelspec": {
   "display_name": "analysis",
   "language": "python",
   "name": "python3"
  },
  "language_info": {
   "codemirror_mode": {
    "name": "ipython",
    "version": 3
   },
   "file_extension": ".py",
   "mimetype": "text/x-python",
   "name": "python",
   "nbconvert_exporter": "python",
   "pygments_lexer": "ipython3",
   "version": "3.11.12"
  }
 },
 "nbformat": 4,
 "nbformat_minor": 5
}
