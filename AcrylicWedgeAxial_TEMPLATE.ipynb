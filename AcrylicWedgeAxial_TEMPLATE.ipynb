{
 "cells": [
  {
   "cell_type": "code",
   "execution_count": null,
   "id": "ead36527",
   "metadata": {},
   "outputs": [],
   "source": [
    "import os\n",
    "os.environ[ 'JAX_PLATFORM_NAME' ] = 'cpu'\n",
    "\n",
    "import numpy as np\n",
    "import matplotlib.pyplot as plt\n",
    "import matplotlib.animation as animation\n",
    "\n",
    "import scipy.signal as spsig\n",
    "from scipy.ndimage import binary_dilation, binary_erosion\n",
    "import h5py as h5\n",
    "import Pulse as pulse\n",
    "import glob\n",
    "\n",
    "# logging\n",
    "from logzero import logger\n",
    "\n",
    "# jwave imports\n",
    "from jwave.geometry import Domain, Medium, TimeAxis, Sources, sphere_mask, circ_mask\n",
    "import jax.numpy as jnp\n",
    "from jax import jit\n",
    "from jwave import FourierSeries\n",
    "from jwave.utils import show_field\n",
    "import jax\n",
    "\n",
    "from jax import jit\n",
    "from jax import numpy as jnp\n",
    "from jaxdf import FourierSeries\n",
    "from jax.sharding import Mesh, PartitionSpec, NamedSharding\n",
    "\n",
    "from jwave.acoustics import simulate_wave_propagation\n",
    "from jwave.geometry import *\n",
    "\n",
    "# pyvista/meshing imports\n",
    "import pyvista as pv"
   ]
  },
  {
   "cell_type": "code",
   "execution_count": null,
   "id": "0ffafb06",
   "metadata": {},
   "outputs": [],
   "source": [
    "jax.config.update( 'jax_enable_x64', False )\n",
    "%matplotlib widget"
   ]
  },
  {
   "cell_type": "markdown",
   "id": "c9b926ab",
   "metadata": {},
   "source": [
    "# User edit\n",
    "You should not have to change anyting beyond the next cell. "
   ]
  },
  {
   "cell_type": "code",
   "execution_count": null,
   "id": "55a91be8",
   "metadata": {},
   "outputs": [],
   "source": [
    "############## user edit #######################\n",
    "\n",
    "meshfile = './AcrylicWedge.stl'\n",
    "maskfile = './AcrylicWedgeHires3D_adjusted.h5'\n",
    "string_handle = 'Axial'\n",
    "padding_fraction = 0.1\n",
    "num_points_along_largest_dimension = 400\n",
    "pml_fraction = 0.5 # fraction of the buffer region outside the object used as PML\n",
    "\n",
    "# material properties\n",
    "v_acrylic = 2730. # m/s, speed of sound\n",
    "v_air = 341.\n",
    "rho_acrylic = 1.18e3    # kg/m^3, acrylic density\n",
    "rho_air = 1.293         # kg/m^3, air density\n",
    "\n",
    "# pulse characteristics\n",
    "pulse_hg_order = 3 # order of the Hermite-Gauss function modeling the pulse\n",
    "center_frequency = 2.e6 # Hz, the dominant frequency of the input pressure wave\n",
    "simulation_time = 30.e-6 # we simulate only 30 us for now, a little beyond what we currently measure.\n",
    "z_loc = TEMPLATE\n",
    "\n",
    "# hardware parameters\n",
    "# num_desired_devices = None # if None, uses all available GPUs\n",
    "\n",
    "################################################"
   ]
  },
  {
   "cell_type": "markdown",
   "id": "e3a6d6df",
   "metadata": {},
   "source": [
    "# Stop!\n",
    "Don't edit anything beyond this cell, unless you know what you're doing. "
   ]
  },
  {
   "cell_type": "code",
   "execution_count": null,
   "id": "78d151f7",
   "metadata": {},
   "outputs": [],
   "source": [
    "# if not num_desired_devices:\n",
    "#     num_desired_devices = jax.device_count()\n",
    "# else: \n",
    "#     assert num_desired_devices <= jax.device_count(), f'Number of requested devices sbould be at most {jax.device_count()}. '\n",
    "# while num_points_along_largest_dimension % num_desired_devices != 0: \n",
    "#     num_points_along_largest_dimension += 1\n",
    "# print( f'Adjusted number of points along largest dimension: {num_points_along_largest_dimension}' )"
   ]
  },
  {
   "cell_type": "markdown",
   "id": "5a39da67",
   "metadata": {},
   "source": [
    "# Acoustic impedance and reflectivity"
   ]
  },
  {
   "cell_type": "code",
   "execution_count": null,
   "id": "8d3bcc6b",
   "metadata": {},
   "outputs": [],
   "source": [
    "Z_acrylic = v_acrylic * rho_acrylic\n",
    "Z_air = v_air * rho_air\n",
    "R = ( Z_acrylic - Z_air ) / ( Z_acrylic + Z_air )\n",
    "logger.info( f'Reflectivity of acrylic-air interface: {R:.4f}' )"
   ]
  },
  {
   "cell_type": "markdown",
   "id": "e910c4c2",
   "metadata": {},
   "source": [
    "# Grid details"
   ]
  },
  {
   "cell_type": "code",
   "execution_count": null,
   "id": "b2fbab79",
   "metadata": {},
   "outputs": [],
   "source": [
    "# dimensions and grid size calculations\n",
    "mesh = pv.read( meshfile )\n",
    "bounds = np.array( mesh.bounds ).reshape( -1, 2 )\n",
    "largest_dimension = np.diff( bounds, axis=1 ).max()\n",
    "excess_padding = largest_dimension * padding_fraction / 2. \n",
    "dx_mm = ( largest_dimension + 2*excess_padding ) / num_points_along_largest_dimension # spatial step size\n",
    "pml_size = np.round( excess_padding * pml_fraction / dx_mm ).astype( int )\n",
    "grid_ranges = [ \n",
    "    np.arange( mn, mx, dx_mm )\n",
    "    for mn, mx in list( \n",
    "        bounds + np.array( [ -excess_padding, excess_padding ] )[np.newaxis,:].repeat( 3, axis=0 )\n",
    "    )\n",
    "]\n",
    "for n in range( len( grid_ranges ) ):\n",
    "    if grid_ranges[n].size%2 != 0: \n",
    "        grid_ranges[n] = np.concatenate( ( grid_ranges[n], np.array( [ grid_ranges[n][-1] + dx_mm ] ) ) )\n",
    "        \n",
    "shp = tuple( ar.shape[0] for ar in grid_ranges )\n",
    "shp = ( shp[1], shp[0], shp[2] )\n",
    "logger.info( f'Domain size: {shp} pixels. ' )\n",
    "logger.info( f'PML buffer size: {pml_size} pixels. ')\n"
   ]
  },
  {
   "cell_type": "code",
   "execution_count": null,
   "id": "22b4e4a0",
   "metadata": {},
   "outputs": [],
   "source": [
    "if not glob.glob( maskfile ):\n",
    "    logger.info( 'Mask not found. Creating...' )\n",
    "    pts = np.concatenate( \n",
    "        [ \n",
    "            arr.ravel()[np.newaxis,:]\n",
    "            for arr in np.meshgrid( \n",
    "                *( \n",
    "                    gr for gr in grid_ranges\n",
    "                )\n",
    "            )\n",
    "        ], \n",
    "        axis=0\n",
    "    ).T\n",
    "    point_cloud = pv.PolyData( pts )\n",
    "    selected = point_cloud.select_enclosed_points( mesh, progress_bar=True )\n",
    "    mask = np.array( selected[ 'SelectedPoints' ] ).reshape( *shp )\n",
    "    mask = binary_erosion( binary_dilation( mask.astype( bool ) ) ).astype( float )\n",
    "    with h5.File( maskfile, 'w' ) as fid: \n",
    "        fid.create_dataset( 'mask', data=mask )\n",
    "else: \n",
    "    logger.info( 'Mask found. Loading...' )\n",
    "    with h5.File( maskfile, 'r' ) as fid: \n",
    "        mask = fid[ 'mask' ][:].reshape( shp ).astype( float )"
   ]
  },
  {
   "cell_type": "code",
   "execution_count": null,
   "id": "825777ba",
   "metadata": {},
   "outputs": [],
   "source": [
    "plt.figure()\n",
    "plt.pcolormesh( grid_ranges[1], grid_ranges[2], mask[:,mask.shape[0]//2,:].T )\n",
    "plt.plot( [ -11. ], [ 10 ], 'or', label='Source location' )\n",
    "plt.axis( 'equal' )\n",
    "plt.xlabel( '$y~(mm)~\\\\longrightarrow$' )\n",
    "plt.ylabel( '$z~(mm)~\\\\longrightarrow$' )\n",
    "plt.colorbar()\n",
    "plt.title( f'{string_handle} cross-section of wedge mask\\n$\\\\Delta x = {dx_mm:.4f}$ mm', weight='bold' )\n",
    "plt.legend()\n",
    "\n",
    "# plt.imshow( mask[:,:,mask.shape[-1]//2], origin='lower' )"
   ]
  },
  {
   "cell_type": "markdown",
   "id": "e0ef44ea",
   "metadata": {},
   "source": [
    "# `jwave` definitions"
   ]
  },
  {
   "cell_type": "markdown",
   "id": "7bd50b69",
   "metadata": {},
   "source": [
    "## Sharding"
   ]
  },
  {
   "cell_type": "code",
   "execution_count": null,
   "id": "fb28d845",
   "metadata": {},
   "outputs": [],
   "source": [
    "# msh = Mesh( jax.devices(), ( 'x', ) )"
   ]
  },
  {
   "cell_type": "markdown",
   "id": "52f0f62d",
   "metadata": {},
   "source": [
    "## Cross section simulation\n",
    "### 2D Spatial domain"
   ]
  },
  {
   "cell_type": "code",
   "execution_count": null,
   "id": "e8fd84f4",
   "metadata": {},
   "outputs": [],
   "source": [
    "mask_axial = mask[:,mask.shape[1]//2,:].T\n",
    "# mask_axial = jax.device_put( \n",
    "#     jnp.array( mask_axial_cpu, dtype=jnp.float32 ), \n",
    "#     NamedSharding( msh, PartitionSpec( 'x' ) )\n",
    "# )\n",
    "\n",
    "dx = ( float( dx_mm )*1.e-3, float( dx_mm )*1.e-3 )\n",
    "domain_axial = Domain( mask_axial.shape, dx )\n",
    "\n",
    "sound_speed_map = mask_axial*v_acrylic + ( 1. - mask_axial )*v_air\n",
    "sound_speed_field = FourierSeries( jnp.expand_dims( sound_speed_map, axis=-1 ), domain=domain_axial )\n",
    "\n",
    "density_map = mask_axial*rho_acrylic + ( 1. - mask_axial )*rho_air\n",
    "density_field = FourierSeries( jnp.expand_dims( density_map, axis=-1 ), domain=domain_axial )\n",
    "\n",
    "medium = Medium(domain=domain_axial, sound_speed=sound_speed_field, density=density_field, pml_size=int( pml_size ) ) #, attenuation=attenuation_map )"
   ]
  },
  {
   "cell_type": "code",
   "execution_count": null,
   "id": "3ac4e04e",
   "metadata": {},
   "outputs": [],
   "source": [
    "# show_field( sound_speed_map )\n",
    "# show_field( density_map )"
   ]
  },
  {
   "cell_type": "markdown",
   "id": "0730f1ff",
   "metadata": {},
   "source": [
    "## Time domain"
   ]
  },
  {
   "cell_type": "code",
   "execution_count": null,
   "id": "a6a4659a",
   "metadata": {},
   "outputs": [],
   "source": [
    "# input pulse details\n",
    "time_axis = TimeAxis.from_medium( medium, cfl=0.1 )\n",
    "time_axis.t_end = simulation_time # this is all we are currently measuring\n",
    "\n",
    "# calculating time-domain characteristics of pulse\n",
    "center_wavelength = v_acrylic / center_frequency # pulse wavelength\n",
    "period = 1. / center_frequency \n",
    "\n",
    "logger.info( f'Dominant frequency: {center_frequency:2e} Hz' )\n",
    "logger.info( f'Dominant_wavelength: {center_wavelength:.2e} m' )\n",
    "logger.info( f'Dominant time period: {period:.2e} sec' )\n",
    "logger.info( f'Time step: {time_axis.dt:.2e} sec' )\n",
    "logger.info( f'Number of time steps: {int(time_axis.Nt)}' )\n",
    "\n",
    "t = np.arange( 0., float( time_axis.t_end ), float( time_axis.dt ) )\n",
    "init = pulse.HermiteGauss( t, 1.5*period, period/2., pulse_hg_order )\n",
    "plt.figure()\n",
    "plt.plot( t, init, label=f'Input pulse (HG{pulse_hg_order})' )\n",
    "plt.xlabel( 'Simulation time (sec) $\\\\longrightarrow$' ) \n",
    "plt.legend()\n",
    "plt.grid()\n",
    "\n",
    "y_loc = min( np.where( mask[:,:,mask.shape[0]//2].max(axis=1)==1 )[0] )\n",
    "\n",
    "sources = Sources( \n",
    "    positions=( ( z_loc,  ),  ( y_loc, ) ), \n",
    "    signals=jnp.stack( [ init ] ),\n",
    "    dt=time_axis.dt, \n",
    "    domain=domain_axial\n",
    ")"
   ]
  },
  {
   "cell_type": "markdown",
   "id": "b3342faa",
   "metadata": {},
   "source": [
    "# Run simulation"
   ]
  },
  {
   "cell_type": "code",
   "execution_count": null,
   "id": "af81a4b2",
   "metadata": {},
   "outputs": [],
   "source": [
    "@jit\n",
    "def compiled_simulator( sources ):\n",
    "    return simulate_wave_propagation( medium, time_axis, sources=sources )\n"
   ]
  },
  {
   "cell_type": "code",
   "execution_count": null,
   "id": "c3f1f38f",
   "metadata": {},
   "outputs": [],
   "source": [
    "pressure = compiled_simulator( sources )\n",
    "pres = np.squeeze( pressure.on_grid )\n",
    "logger.info( f'Simulation size: {pres.shape}' )\n",
    "pmax = min( np.abs( pres.min() ), np.abs( pres.max() ) )\n",
    "pmin = -pmax"
   ]
  },
  {
   "cell_type": "code",
   "execution_count": null,
   "id": "c05d3a6b",
   "metadata": {},
   "outputs": [],
   "source": [
    "with h5.File( f'{string_handle}Waves_{z_loc}.h5', 'w' ) as fid: \n",
    "    fid.create_dataset( 'pressure', data=pres )\n",
    "    for key, val in {\n",
    "        'y':grid_ranges[0], \n",
    "        'z':grid_ranges[2],\n",
    "        'time_steps':t.size, \n",
    "        'dt':time_axis.dt\n",
    "    }.items():\n",
    "        fid[ 'pressure' ].attrs[ key] = val \n"
   ]
  }
 ],
 "metadata": {
  "kernelspec": {
   "display_name": "analysis",
   "language": "python",
   "name": "python3"
  },
  "language_info": {
   "codemirror_mode": {
    "name": "ipython",
    "version": 3
   },
   "file_extension": ".py",
   "mimetype": "text/x-python",
   "name": "python",
   "nbconvert_exporter": "python",
   "pygments_lexer": "ipython3",
   "version": "3.11.12"
  }
 },
 "nbformat": 4,
 "nbformat_minor": 5
}
