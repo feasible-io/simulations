{
 "cells": [
  {
   "cell_type": "code",
   "execution_count": 1,
   "id": "ead36527",
   "metadata": {},
   "outputs": [],
   "source": [
    "import numpy as np\n",
    "import pandas as pd\n",
    "import matplotlib.pyplot as plt\n",
    "import matplotlib.patches as ptch\n",
    "import matplotlib.animation as animation\n",
    "\n",
    "import scipy.signal as spsig\n",
    "import scipy.ndimage as spimg\n",
    "import h5py as h5\n",
    "# import Pulse as pulse\n",
    "import glob\n",
    "import itertools as itools\n",
    "import functools as ftools\n",
    "\n",
    "# logging, flow control and optimization\n",
    "from logzero import logger\n",
    "import multiprocessing\n",
    "from numba import jit as njit\n",
    "\n",
    "# jwave imports\n",
    "from jwave.geometry import Domain, Medium, TimeAxis, Sources, sphere_mask, circ_mask\n",
    "import jax.numpy as jnp\n",
    "from jax import jit\n",
    "from jwave import FourierSeries\n",
    "from jwave.utils import show_field\n",
    "import jax\n",
    "\n",
    "from jax import jit\n",
    "from jax import numpy as jnp\n",
    "from jaxdf import FourierSeries\n",
    "from matplotlib import pyplot as plt\n",
    "\n",
    "from jwave.acoustics import simulate_wave_propagation\n",
    "from jwave.geometry import *\n",
    "\n",
    "import Pulse as pulse\n",
    "\n",
    "# pyvista/meshing imports\n",
    "import pyvista as pv"
   ]
  },
  {
   "cell_type": "code",
   "execution_count": 2,
   "id": "0ffafb06",
   "metadata": {},
   "outputs": [],
   "source": [
    "jax.config.update('jax_default_device', jax.devices('cpu')[0])\n",
    "jax.config.update( 'jax_enable_x64', False )\n",
    "%matplotlib widget"
   ]
  },
  {
   "cell_type": "markdown",
   "id": "c9b926ab",
   "metadata": {},
   "source": [
    "# User edit\n",
    "You should not have to change anyting beyond the next cell. "
   ]
  },
  {
   "cell_type": "code",
   "execution_count": null,
   "id": "55a91be8",
   "metadata": {},
   "outputs": [],
   "source": [
    "############## user edit #######################\n",
    "\n",
    "meshfile = './AcrylicWedge.stl'\n",
    "maskfile = './BaselineHires3D.h5'\n",
    "string_handle = 'Azimuthal'\n",
    "padding_fraction = 0.1\n",
    "num_points_along_largest_dimension = 400\n",
    "pml_fraction = 0.5 # fraction of the buffer region outside the object used as PML\n",
    "\n",
    "# # multiprocess parameters\n",
    "# num_processes = 10\n",
    "\n",
    "# can/cell details\n",
    "soc = 0.3\n",
    "can_thickness = 0.16\n",
    "can_center = 21.5\n",
    "transducer_dist = 10.\n",
    "can_radius = 10.5\n",
    "can_height = 70.\n",
    "roll_inner_radius = 2.\n",
    "cathode_location =  ( -135.+ ( TEMPLATE. / 18. ) * 90. )*np.pi/180. \n",
    "cathode_thickness = 0.13 \n",
    "cathode_wrapping_sense = 1.\n",
    "crack_edge_dist=-15.*np.pi/180.\n",
    "anode_thickness=0.16\n",
    "crack_width=0.5 / can_radius # i.e., 500 um in radians\n",
    "add_crack=True \n",
    "\n",
    "# Material properties (reference: https://www.sciencedirect.com/science/article/pii/S2352152X22006016)\n",
    "# NOTE: Core is a fictitious material with the same acoustic impedance of air. \n",
    "# NOTE: water properties is substituted for electrolyte for now. \n",
    "materials = [ 'steel', 'oil', 'roll', 'anode', 'electrolyte', 'cathode', 'core' ]\n",
    "speeds = [ 5500., 1440., 1041.865, (1.-soc)*1341. + soc*1443., 1497., (1.-soc)*1093. + soc*1136., 3410. ]\n",
    "densities = [ 7850., 870., 1933.949, (1.-soc)*1909. + soc*1994., 1000., (1.-soc)*4172. + soc*3848., 0.129 ] # jelly roll parameters for SOC = 0.3\n",
    "\n",
    "# pulse characteristics\n",
    "input_pulse_file = '/home/smaddali/simulations/input_signal.csv'\n",
    "center_frequency = 5.e6 # Hz\n",
    "pulse_hg_order = 3 # order of the Hermite-Gauss pulse\n",
    "simulation_time = 32.e-6 \n",
    "c_mult = 0.05   # multiplier for max. Courant factor, to prevent diverging simulation. \n",
    "\n",
    "# azimuthal source details (this is a line source)\n",
    "x_loc1 = [ -15., 5. ] # range of line source\n",
    "y_loc1 = -11. \n",
    "# n_oscillators = 35\n",
    "\n",
    "# axial source details (focus)\n",
    "y_loc2, z_loc2 = -11., 10.\n",
    "focal_length = 11.\n",
    "num_elements = 32\n",
    "element_separation = 0.3 # mm in Y\n",
    "\n",
    "# display/visualization parameters\n",
    "csf = 2. # color scale factor\n",
    "frame_skip = 5\n",
    "\n",
    "################################################"
   ]
  },
  {
   "cell_type": "markdown",
   "id": "e3a6d6df",
   "metadata": {},
   "source": [
    "# Stop!\n",
    "Don't edit anything beyond this cell, unless you know what you're doing. "
   ]
  },
  {
   "cell_type": "markdown",
   "id": "5a39da67",
   "metadata": {},
   "source": [
    "# Acoustic impedance and reflectivity"
   ]
  },
  {
   "cell_type": "code",
   "execution_count": 4,
   "id": "8cf5d082",
   "metadata": {},
   "outputs": [
    {
     "data": {
      "text/plain": [
       "[('steel', 'oil'),\n",
       " ('steel', 'roll'),\n",
       " ('steel', 'anode'),\n",
       " ('steel', 'electrolyte'),\n",
       " ('steel', 'cathode'),\n",
       " ('steel', 'core'),\n",
       " ('oil', 'roll'),\n",
       " ('oil', 'anode'),\n",
       " ('oil', 'electrolyte'),\n",
       " ('oil', 'cathode'),\n",
       " ('oil', 'core'),\n",
       " ('roll', 'anode'),\n",
       " ('roll', 'electrolyte'),\n",
       " ('roll', 'cathode'),\n",
       " ('roll', 'core'),\n",
       " ('anode', 'electrolyte'),\n",
       " ('anode', 'cathode'),\n",
       " ('anode', 'core'),\n",
       " ('electrolyte', 'cathode'),\n",
       " ('electrolyte', 'core'),\n",
       " ('cathode', 'core')]"
      ]
     },
     "execution_count": 4,
     "metadata": {},
     "output_type": "execute_result"
    }
   ],
   "source": [
    "list( itools.combinations( materials, 2 )  )"
   ]
  },
  {
   "cell_type": "code",
   "execution_count": 5,
   "id": "8d3bcc6b",
   "metadata": {},
   "outputs": [],
   "source": [
    "material_properties = { key: [ val1, val2 ] for key, val1, val2 in zip( materials, speeds, densities ) }\n",
    "reflectivity = { \n",
    "    key: ( np.prod( material_properties[ key[0] ] ) - np.prod( material_properties[ key[1] ] ) ) / ( np.prod( material_properties[ key[0] ] ) + np.prod( material_properties[ key[1] ] ) )\n",
    "    for key in list( itools.combinations( materials, 2 ) )\n",
    "}"
   ]
  },
  {
   "cell_type": "code",
   "execution_count": 6,
   "id": "2bee0344",
   "metadata": {},
   "outputs": [
    {
     "data": {
      "text/plain": [
       "{'steel': [5500.0, 7850.0],\n",
       " 'oil': [1440.0, 870.0],\n",
       " 'roll': [1041.865, 1933.949],\n",
       " 'anode': [1371.6, 1934.5],\n",
       " 'electrolyte': [1497.0, 1000.0],\n",
       " 'cathode': [1105.8999999999999, 4074.7999999999993],\n",
       " 'core': [3410.0, 0.129]}"
      ]
     },
     "execution_count": 6,
     "metadata": {},
     "output_type": "execute_result"
    }
   ],
   "source": [
    "material_properties"
   ]
  },
  {
   "cell_type": "code",
   "execution_count": 7,
   "id": "5b323fa9",
   "metadata": {},
   "outputs": [
    {
     "data": {
      "text/plain": [
       "{('steel', 'oil'): 0.9436028792782897,\n",
       " ('steel', 'roll'): 0.9108246240556087,\n",
       " ('steel', 'anode'): 0.8842044450894404,\n",
       " ('steel', 'electrolyte'): 0.9329781518624641,\n",
       " ('steel', 'cathode'): 0.8109816928202526,\n",
       " ('steel', 'core'): 0.9999796231375466,\n",
       " ('oil', 'roll'): -0.23322537632960863,\n",
       " ('oil', 'anode'): -0.3585516538722605,\n",
       " ('oil', 'electrolyte'): -0.0888064586515383,\n",
       " ('oil', 'cathode'): -0.5649336312297029,\n",
       " ('oil', 'core'): 0.9992979955338002,\n",
       " ('roll', 'anode'): -0.13676284394399266,\n",
       " ('roll', 'electrolyte'): 0.14747337437177244,\n",
       " ('roll', 'cathode'): -0.3820453501314744,\n",
       " ('roll', 'core'): 0.999563461234954,\n",
       " ('anode', 'electrolyte'): 0.27861682945012817,\n",
       " ('anode', 'cathode'): -0.2588049642744443,\n",
       " ('anode', 'core'): 0.9996684829413808,\n",
       " ('electrolyte', 'cathode'): -0.5012760702937019,\n",
       " ('electrolyte', 'core'): 0.9994124772514242,\n",
       " ('cathode', 'core'): 0.9998047866396721}"
      ]
     },
     "execution_count": 7,
     "metadata": {},
     "output_type": "execute_result"
    }
   ],
   "source": [
    "reflectivity"
   ]
  },
  {
   "cell_type": "code",
   "execution_count": 8,
   "id": "081e8e96",
   "metadata": {},
   "outputs": [],
   "source": [
    "reference_material = 'roll'"
   ]
  },
  {
   "cell_type": "markdown",
   "id": "e910c4c2",
   "metadata": {},
   "source": [
    "# Grid details"
   ]
  },
  {
   "cell_type": "code",
   "execution_count": 9,
   "id": "b2fbab79",
   "metadata": {},
   "outputs": [
    {
     "name": "stderr",
     "output_type": "stream",
     "text": [
      "2025-05-21 12:22:56 - jwave [INFO]: Simulation domain size: (390, 400)\n",
      "2025-05-21 12:22:56 - jwave [INFO]: Pixel size: [0.05789473684210527, 0.05789473684210478] mm\n"
     ]
    }
   ],
   "source": [
    "buffer = 1. + padding_fraction\n",
    "x_grid = buffer * np.linspace( -can_radius, can_radius, num_points_along_largest_dimension )\n",
    "dx = ( x_grid[1:] - x_grid[:-1] ).mean()\n",
    "y_grid = np.arange( -buffer*( can_radius + transducer_dist ), 0., dx )\n",
    "grid_ranges = [ x_grid,  y_grid ]\n",
    "shp = ( grid_ranges[1].size, grid_ranges[0].size )\n",
    "dy = ( y_grid[1:] - y_grid[:-1] ).mean() # y dimension is longer because of line source location\n",
    "grid = np.meshgrid( x_grid,  y_grid )\n",
    "dx_final = [ dx, dy ]\n",
    "logger.info( f'Simulation domain size: {grid[0].shape}' )\n",
    "logger.info( f'Pixel size: {dx_final} mm' )\n",
    "\n",
    "pts = np.concatenate( [ ar.ravel()[np.newaxis,:] for ar in grid ], axis=0 )\n",
    "\n",
    "rho = np.sqrt( ( pts**2 ).sum( axis=0 ) )\n",
    "im_azim = np.logical_and( rho <= can_radius, rho > can_radius - can_thickness ).reshape( shp )\n",
    "im_azim = im_azim + 2.*np.logical_and( rho <= can_radius-can_thickness, rho >= can_radius-can_thickness-anode_thickness ).reshape( shp )\n",
    "\n",
    "R = np.array( [ [ np.cos( cathode_location ), np.sin( cathode_location ) ], [ np.cos( np.pi/2. + cathode_location ), np.sin( np.pi/2. + cathode_location ) ] ] )\n",
    "# pts_relative = pts[:2,:] # get 2D points\n",
    "# pts_relative[-1,:] = pts_relative[-1,:] - center\n",
    "# pts_relative = pts_relative.T # make this a 2xN array\n",
    "pts_proj = R @ pts\n",
    "theta = np.arctan2( pts_proj[1], pts_proj[0] ) # canonical range from -pi to pi\n",
    "\n",
    "air_core = rho < roll_inner_radius\n",
    "inside_roll = ftools.reduce( \n",
    "    np.logical_and, \n",
    "    [\n",
    "        rho < can_radius - can_thickness - anode_thickness, \n",
    "        rho >= roll_inner_radius\n",
    "    ]\n",
    ")\n",
    "cathode_segment = ftools.reduce( \n",
    "    np.logical_and, \n",
    "    [ \n",
    "        inside_roll,\n",
    "        pts_proj[0] < can_radius - ( can_thickness + anode_thickness + cathode_thickness ), \n",
    "    ]\n",
    ")\n",
    "jelly_roll = ftools.reduce( \n",
    "    np.logical_or, \n",
    "    [ \n",
    "        cathode_segment, \n",
    "        np.logical_and( np.sign( theta )==1, inside_roll )\n",
    "    ]\n",
    ")\n",
    "\n",
    "cathode_air_gap = ftools.reduce( \n",
    "    np.logical_and, \n",
    "    [ \n",
    "        rho <= can_radius - ( can_thickness + anode_thickness ), \n",
    "        rho >= roll_inner_radius, \n",
    "        np.logical_not( np.logical_and( jelly_roll, inside_roll ) )\n",
    "    ]\n",
    ")\n",
    "crack = ftools.reduce( \n",
    "    np.logical_and, \n",
    "    [ \n",
    "        rho <= can_radius - can_thickness, \n",
    "        rho >= can_radius - ( can_thickness + anode_thickness ), \n",
    "        theta >= crack_edge_dist - crack_width/2., # this theta is relative to the cathode edge, lab frame zero \n",
    "        theta <= crack_edge_dist + crack_width/2., \n",
    "    ]\n",
    ")\n",
    "electrolyte_fill_region = np.logical_or( cathode_air_gap, crack ) if add_crack else cathode_air_gap\n",
    "efr = electrolyte_fill_region.reshape( shp )\n",
    "im_azim = im_azim * np.logical_not( efr )\n",
    "\n",
    "theta[ np.where( theta < 0. ) ] = theta[ np.where( theta < 0. ) ] + 2.*np.pi\n",
    "cathode_arc = ftools.reduce( \n",
    "    np.logical_and, \n",
    "    [ \n",
    "        rho >= can_radius - ( can_thickness + anode_thickness + cathode_thickness ), \n",
    "        rho <= can_radius - ( can_thickness + anode_thickness ), \n",
    "        theta >= 0., \n",
    "        theta <= 3.*np.pi/2. \n",
    "    ]\n",
    ")\n",
    "jelly_roll = np.logical_and( jelly_roll, np.logical_not( cathode_arc ) )\n",
    "mx =  im_azim.max()\n",
    "im_azim = im_azim + ftools.reduce( \n",
    "    lambda x, y: x+y, \n",
    "    [ \n",
    "        ( n+mx+1 )*arr.reshape( grid_ranges[1].size, grid_ranges[0].size )\n",
    "        for n, arr in enumerate( [ jelly_roll, cathode_arc, electrolyte_fill_region, air_core ] )\n",
    "    ]\n",
    ")\n",
    "medium_dict = { 0:'oil', 1:'steel', 2:'anode', 3:'roll', 4:'cathode', 5:'electrolyte', 6:'core' }"
   ]
  },
  {
   "cell_type": "code",
   "execution_count": 10,
   "id": "95416cb3",
   "metadata": {},
   "outputs": [],
   "source": [
    "# # rough calculation of cathode thickness from segmented image\n",
    "# temp = np.array( \n",
    "#     [ \n",
    "#         [ 972., 246. ], \n",
    "#         [ 976., 241. ] \n",
    "#     ]\n",
    "# )\n",
    "# 0.019 * np.sqrt( ( np.diff( temp, axis=0 )**2 ).sum() )"
   ]
  },
  {
   "cell_type": "code",
   "execution_count": null,
   "id": "a3153dca",
   "metadata": {},
   "outputs": [
    {
     "data": {
      "application/vnd.jupyter.widget-view+json": {
       "model_id": "00701f33a20346f5a092c1eda5e2177e",
       "version_major": 2,
       "version_minor": 0
      },
      "image/png": "[encoded data removed]",
      "text/html": [
       "\n",
       "            <div style=\"display: inline-block;\">\n",
       "                <div class=\"jupyter-widgets widget-label\" style=\"text-align: center;\">\n",
       "                    Figure\n",
       "                </div>\n",
       "                <img src='data:image/png;base64,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' width=700.0/>\n",
       "            </div>\n",
       "        "
      ],
      "text/plain": [
       "Canvas(toolbar=Toolbar(toolitems=[('Home', 'Reset original view', 'home', 'home'), ('Back', 'Back to previous …"
      ]
     },
     "metadata": {},
     "output_type": "display_data"
    }
   ],
   "source": [
    "fig = plt.figure( figsize=( 7, 6 ) )\n",
    "ax = fig.subplots()\n",
    "my_cmap = 'tab10'\n",
    "\n",
    "ax.pcolormesh( grid_ranges[0], grid_ranges[1], im_azim, cmap=my_cmap ) #, alpha=0.5 )\n",
    "ax.set_xlabel( 'X (mm)' )\n",
    "ax.set_ylabel( 'Y (mm)' )\n",
    "zoom_region = ptch.Rectangle( \n",
    "    # ( 4.5, -10 ), \n",
    "    ( -3., -13. ), \n",
    "    5., \n",
    "    5., \n",
    "    linewidth=2, \n",
    "    edgecolor='black', \n",
    "    facecolor='none', \n",
    "    label='zoom region'\n",
    ")\n",
    "\n",
    "ax.axis( 'tight' )\n",
    "ax.set_title( f'Azimuthal plane' )\n",
    "\n",
    "# ax.add_patch( zoom_region )\n",
    "# ax_ins = ax.inset_axes( [ 0.6, 0.05, 0.35, 0.35 ] )\n",
    "# # ax_ins = ax.inset_axes( [ 0.45, 0.45, 0.2, 0.2 ] )\n",
    "# ax_ins.pcolormesh( grid_ranges[0], grid_ranges[1], im_azim, cmap=my_cmap )#, alpha=0.5 )\n",
    "# # ax_ins.set_xlim( [ 4.5, 8 ] )\n",
    "# # ax_ins.set_ylim( [ -10, -6.5 ] )\n",
    "# ax_ins.set_xlim( [ -3., 3. ] )\n",
    "# ax_ins.set_ylim( [ -13., -7. ] )\n",
    "# ax_ins.set_xticks( [] )\n",
    "# ax_ins.set_yticks( [] )\n",
    "plt.suptitle( 'Simulation views', weight='bold' )\n",
    "plt.gca().set_aspect( 'equal' )\n",
    "plt.tight_layout()\n",
    "\n",
    "plt.savefig( 'SimulationDomain_TEMPLATE.png' )\n"
   ]
  },
  {
   "cell_type": "markdown",
   "id": "e0ef44ea",
   "metadata": {},
   "source": [
    "# `jwave` definitions\n",
    "\n",
    "## Cross section simulations\n",
    "\n",
    "### Azimuthal"
   ]
  },
  {
   "cell_type": "code",
   "execution_count": 12,
   "id": "e8fd84f4",
   "metadata": {},
   "outputs": [
    {
     "name": "stderr",
     "output_type": "stream",
     "text": [
      "2025-05-21 12:22:56 - jwave [INFO]: PML size: 9 pixels. \n"
     ]
    }
   ],
   "source": [
    "def get_medium_properties( im, medium_dict ):\n",
    "    def get_region( in_data ):\n",
    "        return ( in_data[0]==in_data[1] )*in_data[2]\n",
    "    sound_speed_map = ftools.reduce( \n",
    "        lambda x, y: x + y, \n",
    "        [ \n",
    "            get_region( [ im, idx, material_properties[ medium_dict[ idx ] ][0] ] )\n",
    "            for idx in np.unique( im )\n",
    "        ]\n",
    "    )\n",
    "    density_map = ftools.reduce( \n",
    "        lambda x, y: x + y, \n",
    "        [ \n",
    "            get_region( [ im, idx, material_properties[ medium_dict[ idx ] ][1] ] )\n",
    "            for idx in np.unique( im )\n",
    "        ]\n",
    "    )\n",
    "    return sound_speed_map, density_map\n",
    "\n",
    "pml_size = np.round( buffer / dx_final[0] ).astype( int )//2\n",
    "logger.info( f'PML size: {pml_size} pixels. ' )\n",
    "speed_map, density_map = get_medium_properties( im_azim, medium_dict )\n",
    "dx = ( float( dx_final[1] )*1.e-3, float( dx_final[0] )*1.e-3 )\n",
    "domain_azim = Domain( ( grid_ranges[1].size, grid_ranges[0].size ), dx )\n",
    "speed_field = FourierSeries( jnp.expand_dims( speed_map, axis=-1 ), domain=domain_azim )\n",
    "density_field = FourierSeries( jnp.expand_dims( density_map, axis=-1 ), domain=domain_azim )\n",
    "\n",
    "medium = Medium(domain=domain_azim, sound_speed=speed_field, density=density_field, pml_size=int( pml_size ), attenuation=0.95 )"
   ]
  },
  {
   "cell_type": "code",
   "execution_count": 13,
   "id": "00deabd2",
   "metadata": {},
   "outputs": [],
   "source": [
    "# show_field( speed_map )\n",
    "# show_field( density_map )"
   ]
  },
  {
   "cell_type": "markdown",
   "id": "0730f1ff",
   "metadata": {},
   "source": [
    "## Time domain"
   ]
  },
  {
   "cell_type": "code",
   "execution_count": null,
   "id": "a6a4659a",
   "metadata": {},
   "outputs": [
    {
     "name": "stderr",
     "output_type": "stream",
     "text": [
      "2025-05-21 12:22:57 - jwave [INFO]: Dominant frequency: 5.000000e+06 Hz\n",
      "2025-05-21 12:22:57 - jwave [INFO]: Dominant_wavelength: 2.08e-04 m\n",
      "2025-05-21 12:22:57 - jwave [INFO]: Sample points per dominant wavelength: 3\n",
      "2025-05-21 12:22:57 - jwave [INFO]: Dominant time period: 2.00e-07 sec\n",
      "2025-05-21 12:22:57 - jwave [INFO]: Courant factor: 9.00e-02\n",
      "2025-05-21 12:22:57 - jwave [INFO]: Time step: 9.47e-10 sec\n"
     ]
    },
    {
     "data": {
      "text/plain": [
       "Text(0.5, 1.0, 'Input pulse of fequency 5.00e+06 Hz')"
      ]
     },
     "execution_count": 14,
     "metadata": {},
     "output_type": "execute_result"
    },
    {
     "data": {
      "application/vnd.jupyter.widget-view+json": {
       "model_id": "0fe0934bc89d4efd8df572e4215e9ef9",
       "version_major": 2,
       "version_minor": 0
      },
      "image/png": "[encoded data removed]",
      "text/html": [
       "\n",
       "            <div style=\"display: inline-block;\">\n",
       "                <div class=\"jupyter-widgets widget-label\" style=\"text-align: center;\">\n",
       "                    Figure\n",
       "                </div>\n",
       "                <img src='data:image/png;base64,iVBORw0KGgoAAAANSUhEUgAAAoAAAAHgCAYAAAA10dzkAAAAOnRFWHRTb2Z0d2FyZQBNYXRwbG90bGliIHZlcnNpb24zLjEwLjEsIGh0dHBzOi8vbWF0cGxvdGxpYi5vcmcvc2/+5QAAAAlwSFlzAAAPYQAAD2EBqD+naQAAYfdJREFUeJzt3XlYVGX/BvB7GHYQgUABRVBUFHfxhdx3QK3UTNNM0RSXpFRS08p9IXfLLCvX1NLXXOpXphKGmuK+F5Eaaiqg4oKAwsg8vz+8OC8jM4DMDDOHuT/XxSVz5jnPec53Brh9zjIKIYQAEREREVkMK1MPgIiIiIjKFwMgERERkYVhACQiIiKyMAyARERERBaGAZCIiIjIwjAAEhEREVkYBkAiIiIiC8MASERERGRhGACJiIiILAwDIBEREZGFYQAkIiIisjAMgEREREQWhgGQiIiIyMIwABIRERFZGAZAIiIiIgvDAEhERERkYRgAiYiIiCwMAyARERGRhWEAJCIiIrIwDIBEREREFoYBkIiIiMjCMAASERERWRgGQCIiIiILwwBIREREZGEYAImIiIgsDAMgERERkYVhACQiIiKyMAyARERERBaGAZCIiIjIwjAAEhEREVkYBkAiIiIiC8MASERERGRhGACJiIiILAwDIBEREZGFYQAkqiASEhKgUCiQkJBg6qFodfHiRYSFhaFy5cpQKBTYuXOnzrbp6el47bXX8MILL0ChUGDZsmXlNk4iIkvAAEiytG7dOigUCpw4ccLUQwEA5OTkYMaMGWYbvsxBZGQkzp8/j7lz52LDhg1o0aKFzrbjx4/Hnj17MGXKFGzYsAERERHlONKKw9/fHwqFosjXqFGjSrW+Wq3GggULULNmTdjb26Nx48b47rvvtLZNSkpCREQEnJ2d4e7ujkGDBuH27duG3J1SW716NerXrw97e3vUqVMHy5cv19l2y5YtaNmyJZycnODq6opWrVph3759JW7D398fL730ktbnCv4z9v3335d5H4iMzdrUAyCqCHJycjBz5kwAQIcOHUw7GDP06NEjJCYm4sMPP0R0dHSJ7fft24eePXtiwoQJ5TC6iq1p06Z47733NJbVrVu3VOt++OGH+PjjjxEVFYX//Oc/+OGHH/DGG29AoVCgf//+Urvr16+jXbt2qFy5MubNm4esrCwsWrQI58+fx7Fjx2Bra2vQfSrOl19+iVGjRqFPnz6IiYnBwYMH8e677yInJwfvv/++RtsZM2Zg1qxZeO211zBkyBCoVCpcuHABN27cKLfxEpkKAyARGV3BTJCrq2up2t+6davUbal41apVw5tvvvnc6924cQOLFy/GmDFj8NlnnwEAhg8fjvbt22PixIno27cvlEolAGDevHnIzs7GyZMnUaNGDQBASEgIunbtinXr1mHEiBF678e6deswdOhQCCF0tnn06BE+/PBD9OjRQ5p9i4qKglqtxuzZszFixAi4ubkBAI4cOYJZs2Zh8eLFGD9+vN7jI5IbHgKmCmPIkCFwdnbGjRs30KtXLzg7O8PT0xMTJkxAfn6+1O7KlStQKBRYtGgRli5dCj8/Pzg4OKB9+/a4cOGCRp8dOnTQOqM3ZMgQ+Pv7S/15enoCAGbOnCkdZpsxY4bOsRYcwj5w4ABGjhyJF154AS4uLhg8eDDu3bun0VZXX/7+/hgyZEixNbl48SL69OkDLy8v2Nvbo3r16ujfvz8ePHig0W7jxo0IDg6Gg4MD3N3d0b9/f/z777/F9l3g9OnT6NatG1xcXODs7IzOnTvjyJEj0vMzZsyAn58fAGDixIlQKBRS7Z5VUBchBFasWCHVssD9+/cxbtw4+Pr6ws7ODrVr18b8+fOhVqs1+rl//z6GDBmCypUrw9XVFZGRkThz5gwUCgXWrVsntSvN61tArVZj2bJlaNCgAezt7VG1alWMHDmyyOtVcGjw999/R0hICOzt7VGrVi188803RbZz//59jB8/Hv7+/rCzs0P16tUxePBg3LlzB1lZWXBycsLYsWOLrHf9+nUolUrExsZqreOz8vLykJ2dXaq2BX744QeoVCq8/fbb0jKFQoHRo0fj+vXrSExMlJZv27YNL730khT+AKBLly6oW7cu/vvf/xbZ59K8hmXx22+/ISMjQ2PMADBmzBhkZ2fj559/lpYtW7YMXl5eGDt2LIQQyMrK0nv7uhT8ztH1RWQKnAGkCiU/Px/h4eEIDQ3FokWL8Ouvv2Lx4sUICAjA6NGjNdp+8803ePjwIcaMGYPHjx/jk08+QadOnXD+/HlUrVq11Nv09PTEF198gdGjR6N379549dVXAQCNGzcucd3o6Gi4urpixowZSE5OxhdffIGrV69K5xDpIy8vD+Hh4cjNzcU777wDLy8v3LhxAz/99BPu37+PypUrAwDmzp2LqVOnol+/fhg+fDhu376N5cuXo127djh9+nSxM3F//PEH2rZtCxcXF0yaNAk2Njb48ssv0aFDB+zfvx+hoaF49dVX4erqivHjx2PAgAHo3r07nJ2dtfbXrl07bNiwAYMGDULXrl0xePBg6bmcnBy0b98eN27cwMiRI1GjRg0cPnwYU6ZMQWpqqnShiBACPXv2xO+//45Ro0ahfv362LFjByIjI/Wq58iRI6VZqHfffRcpKSn47LPPcPr0aRw6dAg2NjZS20uXLuG1117DsGHDEBkZiTVr1mDIkCEIDg5GgwYNAABZWVlo27YtkpKS8NZbb6F58+a4c+cOfvzxR1y/fh1NmzZF7969sWXLFixZskSabQOA7777DkIIDBw4sMRx79u3D46OjsjPz4efnx/Gjx+vNVQ+6/Tp03ByckL9+vU1loeEhEjPt2nTBjdu3MCtW7e0ntMZEhKCXbt2SY9L+xqW1enTpwGgyFiCg4NhZWWF06dPS7Oh8fHxaNWqFT799FPMmTMHGRkZ8PLyKvVpCgCgUqlw586dIsuf/Q+Wp6cnNmzYUGTd8ePHl+vhcSINgkiG1q5dKwCI48ePS8siIyMFADFr1iyNts2aNRPBwcHS45SUFAFAODg4iOvXr0vLjx49KgCI8ePHS8vat28v2rdvX2T7kZGRws/PT3p8+/ZtAUBMnz79ucYfHBws8vLypOULFiwQAMQPP/wgLdPVr5+fn4iMjJQe//bbbwKA+O2334QQQpw+fVoAEFu3btU5jitXrgilUinmzp2rsfz8+fPC2tq6yPJn9erVS9ja2orLly9Ly27evCkqVaok2rVrJy0rqPnChQuL7a8AADFmzBiNZbNnzxZOTk7i77//1lg+efJkoVQqxbVr14QQQuzcuVMAEAsWLJDaPHnyRLRt21YAEGvXrpWWl/b1PXjwoAAgNm3apNFu9+7dRZb7+fkJAOLAgQPSslu3bgk7Ozvx3nvvScumTZsmAIjt27cX2b5arRZCCLFnzx4BQPzyyy8azzdu3FjruJ/18ssvi/nz54udO3eK1atXSzWYNGlSiev26NFD1KpVq8jy7OxsAUBMnjxZCCHE8ePHBQDxzTffFGk7ceJEAUA8fvxYCFH611Cbgp+Z4owZM0YolUqtz3l6eor+/fsLIYS4e/euACBeeOEF4ezsLBYuXCi2bNkiIiIiBACxcuXKYrcjxP9e5+K+ivvZe/vtt4VSqRT79u0rcVtExsBDwFThPHuFY9u2bfHPP/8UaderVy9Uq1ZNehwSEoLQ0FCNGQtjGzFihMbM0ejRo2FtbW2QMRTM8O3Zswc5OTla22zfvh1qtRr9+vXDnTt3pC8vLy/UqVMHv/32m87+8/PzsXfvXvTq1Qu1atWSlnt7e+ONN97A77//jszMTL33o8DWrVvRtm1buLm5aYy1S5cuyM/Px4EDBwAAu3btgrW1tcaMr1KpxDvvvKPXtitXroyuXbtqbDs4OBjOzs5F6hQUFIS2bdtKjz09PREYGKjxPty2bRuaNGmC3r17F9lewexvly5d4OPjg02bNknPXbhwAefOnSvVeX0//vgjJk2ahJ49e+Ktt97C/v37ER4ejiVLluD69evFrvvo0SPY2dkVWW5vby89X/jf0rQt7WsIAPfu3dNoU3CItvCyO3fuaLy3Hz16pHNGzd7eXhpHQV8ZGRlYtWoVJkyYgH79+uHnn39GUFAQ5syZU2xtCoSGhiIuLq7I16JFi4pd75tvvsHnn3+OBQsWoGPHjqXaFpGh8RAwVSj29vbS+XgF3NzcipynBQB16tQpskzbOUvG9OwYnJ2d4e3tjStXrujdd82aNRETE4MlS5Zg06ZNaNu2LV555RW8+eabUji8ePEihBBaawFAI5w+6/bt28jJyUFgYGCR5+rXrw+1Wo1///1XOuSpr4sXL+LcuXNFXt8Ct27dAgBcvXoV3t7eRQ4zaxvn82z7wYMHqFKlSrHbLlD4XLgCz74PL1++jD59+hS7XSsrKwwcOBBffPEFcnJy4OjoiE2bNsHe3h59+/Z97v1QKBTSLXYSEhKKDZEODg7Izc0tsvzx48fS84X/LU3b0r6GANCsWTNcvXq1SJtn150+fbp0jqyDgwPy8vK09v348eMiY7axscFrr70mtbGyssLrr7+O6dOn49q1a1pfx8I8PDzQpUuXIsutrXX/aT1z5gxGjRqFAQMGICYmptj+iYyJAZAqlMLnSRlCwQUJzyp8UYmplGYMixcvxpAhQ/DDDz9g7969ePfddxEbG4sjR46gevXqUKvVUCgU+OWXX7TWTte5eqagVqvRtWtXTJo0Sevzpb21SWGlfX3VajWqVKmiMRNX2LOhRNf7UNu2SjJ48GAsXLgQO3fuxIABA/Dtt9/ipZdekkL88/L19QUA3L17t9h23t7e+O233yCE0DgfNTU1FQDg4+MjtSu8vLDU1FS4u7tLs4PP8xpu2rRJmrEDgL1792LhwoWIi4vTWOfZ2ef8/HzcunVLI6zn5eUhIyNDGrO7uzvs7e3h6upa5LUqWO/evXslBsDnde/ePfTp0wd169bFqlWrDNo30fNiACSLdfHixSLL/v77b42rP93c3LQePn52ZqKsF2xcvHhR4xBQVlYWUlNT0b17d40x3L9/X2O9vLw8rX9wtWnUqBEaNWqEjz76CIcPH0br1q2xcuVKzJkzBwEBARBCoGbNms8doDw9PeHo6Ijk5OQiz/3111+wsrKSwoYhBAQEICsrS+uMS2F+fn6Ij49HVlaWRoDVNs7Svr4BAQH49ddf0bp1a2n2SF8BAQFFrjrXpmHDhmjWrBk2bdqE6tWr49q1a8Xe2LgkBfuraxauQNOmTbFq1SokJSUhKChIWn706FHpeeDpbWY8PT213pT92LFjUjug9K8hALRu3VrjccEh6+LWLdjWiRMnNH6GTpw4AbVaLT1vZWWFpk2b4vjx48jLy9M4bHzz5k0AJdfneanVagwcOBD379/Hr7/+CkdHR4P2T/S8eA4gWaydO3dq3PD12LFjOHr0KLp16yYtCwgIwF9//aXxiQZnz57FoUOHNPoq+GX+bFAryVdffQWVSiU9/uKLL/DkyZMiYyh8blTBeiXNAGZmZuLJkycayxo1agQrKyvpcN2rr74KpVKJmTNnFpmdEkIgIyNDZ/9KpRJhYWH44YcfNA5Zp6en49tvv0WbNm3g4uJS7BifR79+/ZCYmIg9e/YUee7+/fvSvnbv3h1PnjzBF198IT2fn5+vNTSV9vXt168f8vPzMXv27CJ9PHny5LlfdwDo06cPzp49ix07dhR57tnXYtCgQdi7dy+WLVuGF154QeP9ocvdu3eLvEdUKhU+/vhj2NraavzH48GDB/jrr780rl7t2bMnbGxs8Pnnn2uMa+XKlahWrRpatWqlsS8//fSTxq2D4uPj8ffff2scqi7ta1hWnTp1gru7u8ZrDzz9uXJ0dESPHj2kZa+//jry8/Oxfv16adnjx4+xadMmBAUFSbOFhjJz5kzs2bMH3333HWrWrGnQvonKgjOAZLFq166NNm3aYPTo0cjNzZX+uBY+PPXWW29hyZIlCA8Px7Bhw3Dr1i2sXLkSDRo00LjAwcHBAUFBQdiyZQvq1q0Ld3d3NGzYEA0bNix2DHl5eejcuTP69euH5ORkfP7552jTpg1eeeUVqc3w4cOlTzbo2rUrzp49iz179sDDw6PYvvft24fo6Gj07dsXdevWxZMnT7BhwwYolUrp3LOAgADMmTMHU6ZMwZUrV9CrVy9UqlQJKSkp2LFjB0aMGFHsp3HMmTMHcXFxaNOmDd5++21YW1vjyy+/RG5uLhYsWFDs+J7XxIkT8eOPP+Kll16SbqmSnZ2N8+fP4/vvv8eVK1fg4eGBl19+Ga1bt8bkyZNx5coVBAUFYfv27UVuzQGU/vVt3749Ro4cidjYWJw5cwZhYWGwsbHBxYsXsXXrVnzyySca55KVdn++//579O3bF2+99RaCg4Nx9+5d/Pjjj1i5ciWaNGkitX3jjTcwadIk7NixA6NHjy723MwCP/74I+bMmYPXXnsNNWvWxN27d/Htt9/iwoULmDdvHry8vKS2O3bswNChQ7F27Vrp3pLVq1fHuHHjsHDhQqhUKvznP//Bzp07cfDgQWzatEnj0OkHH3yArVu3omPHjhg7diyysrKwcOFCNGrUCEOHDn3u17CsHBwcMHv2bIwZMwZ9+/ZFeHg4Dh48iI0bN2Lu3Llwd3eX2o4cORKrVq3CmDFj8Pfff6NGjRrYsGEDrl69iv/7v/8r8xi0OX/+PGbPno127drh1q1b2Lhxo8bzZblRN5HeTHX5MZE+dN0GxsnJqUjb6dOna9w+ovAtSRYvXix8fX2FnZ2daNu2rTh79myR9Tdu3Chq1aolbG1tRdOmTcWePXuK3CZECCEOHz4sgoODha2tbYm3hCkY//79+8WIESOEm5ubcHZ2FgMHDhQZGRkabfPz88X7778vPDw8hKOjowgPDxeXLl0q8TYw//zzj3jrrbdEQECAsLe3F+7u7qJjx47i119/LTKebdu2iTZt2ggnJyfh5OQk6tWrJ8aMGSOSk5N17kOBU6dOifDwcOHs7CwcHR1Fx44dxeHDhzXaGOI2MEII8fDhQzFlyhRRu3ZtYWtrKzw8PESrVq3EokWLNG6nk5GRIQYNGiRcXFxE5cqVxaBBg6Tb4hS+DYwQpX99hRDiq6++EsHBwcLBwUFUqlRJNGrUSEyaNEncvHlTauPn5yd69OhRZF1tt5zJyMgQ0dHRolq1asLW1lZUr15dREZGijt37hRZv3v37gJAkdrqcuLECfHyyy9LfTs7O4s2bdqI//73v0XaFrwfn61Nfn6+mDdvnvDz8xO2traiQYMGYuPGjVq3d+HCBREWFiYcHR2Fq6urGDhwoEhLSyvSrrSvoa4xlsZXX30lAgMDha2trQgICBBLly6Vbq1TWHp6uoiMjBTu7u7Czs5OhIaGit27d5dqG7peZyH+97NYcBuYgse6vohMQSFEGc5KJpKxK1euoGbNmli4cKHJPmu24IbCx48f13oDXTK8gte98CyXnPTu3Rvnz5/HpUuXTD0UIqoAeA4gEZGZS01Nxc8//4xBgwaZeihEVEHwHEAiIjOVkpKCQ4cOYdWqVbCxscHIkSNNPSQiqiA4A0hEZKb279+PQYMGISUlBevXr9e4cIOISB88B5CIiIjIwnAGkIiIiMjCMAASERERWRgGQCIiIiILw6uA9aBWq3Hz5k1UqlSpzJ8FS0REROVLCIGHDx/Cx8cHVlaWORfGAKiHmzdvGvTD7omIiKj8/Pvvv6hevbqph2ESDIB6qFSpEoCnbyBDfug98PRD2/fu3St95ig9xbpox7roxtpox7roxtpoV5HqkpmZCV9fX+nvuCViANRDwWFfFxcXowRAR0dHuLi4yP4HzZBYF+1YF91YG+1YF91YG+0qYl0s+fQtyzzwTURERGTBGACJiIiILAwDIBEREZGF4TmARETFEELgyZMnyM/PN/VQDEqlUsHa2hqPHz+ucPumL9ZGOznVRalUwtra2qLP8SsJAyARkQ55eXlITU1FTk6OqYdicEIIeHl54d9//+UfyWewNtrJrS6Ojo7w9vaGra2tqYdilhgAiYi0UKvVSElJgVKphI+PD2xtbWXxR6+01Go1srKy4OzsbLE3wtWFtdFOLnURQiAvLw+3b99GSkoK6tSpY9bjNRUGQCIiLfLy8qBWq+Hr6wtHR0dTD8fg1Go18vLyYG9vzz+Oz2BttJNTXRwcHGBjY4OrV69KYyZN5v0KEhGZmLn/oSMi7fizWzxWh4iIiMjCMAASEVkYhUKBnTt3GrTPGTNmoGnTpgbtU5sOHTpg3LhxRt+O3Fy5cgUKhQJnzpwx6nbmzp2LkSNHGnUbpfHiiy9i27Ztph6GrDEAEhFVILdv38bo0aNRo0YN2NnZwcvLC+Hh4Th06JDUJjU1Fd26dTPhKC3DkCFD0KtXL1MPw2DS0tLw5Zdf4oMPPpCW6drHhIQEKBQK3L9/X1omhMDXX3+Nli1bwsXFBc7OzmjQoAHGjh2LS5cuSe22b9+OFi1awNXVFU5OTmjatCk2bNig0f9HH32EyZMnQ61WG3w/LQUDIBFRBdKnTx+cPn0a69evx99//40ff/wRHTp0QEZGhtTGy8sLdnZ2JhwlydHq1asREhICPz+/515XCIE33ngD7777Lrp37469e/fizz//xOrVq2Fvb485c+ZIbd3d3fHhhx8iMTER586dw9ChQzF06FDs2bNHatOtWzc8fPgQv/zyi0H2zRIxAJq5s9cf4ONf/sKjPPO+6SYRmd79+/dx8OBBzJ8/Hx07doSfnx9CQkIwZcoUvPLKK1K7woeACw4dbt++HR07doSjoyOaNGmCxMREjb6//vpr6Yro3r17Y8mSJXB1dS12PKtWrUL9+vVhb2+PevXq4fPPPy9xHy5cuIBu3brB2dkZVatWxaBBg3Dnzh2d7XNzczFhwgRUq1YNTk5OCA0NRUJCgvT8unXr4Orqip9++gmBgYFwdHTEa6+9hpycHKxfvx7+/v5wc3PDu+++q3Fz49zcXEycOLHEfvfs2YP69evD2dkZERERSE1NBfD0kPj69evxww8/QKFQQKFQaKxfWIcOHRAdHY3o6GhUrlwZHh4emDp1KoQQUhtth+1dXV2xbt06rX3eu3cPAwcOhKenJxwcHFCnTh2sXbtWev7ff/9Fv3794OrqCnd3d/Ts2RNXrlzRWWcA2LJlC8LDw4ttU9y6mzdvxpYtWzB16lS8+OKLqFGjBl588UXMnz9fY2wdOnRA7969Ub9+fQQEBGDs2LFo3Lgxfv/9d6mNUqlE9+7dsXnz5jKNhxgAzd5rXx7Fyv2XsXzfRVMPhciiCSGQk/fEJF+Fg0BxnJ2d4ezsjJ07dyI3N/e59u/DDz/EhAkTcObMGdStWxcDBgzAkydPAACHDh3CqFGjMHbsWJw5cwZdu3bF3Llzi+1v06ZNmDZtGubOnYukpCTMmzcPU6dOxfr163Wuc//+fXTq1AnNmjXDiRMnsHv3bqSnp6Nfv34614mOjkZiYiI2b96Mc+fOoW/fvoiIiMDFi//7nZmTk4NPP/0Umzdvxu7du5GQkIDevXtj165d2LVrFzZs2IAvv/wS33//vbTOpEmTcOTIkRL7XbRoETZs2IADBw7g2rVrmDBhAgBgwoQJ6NevnxQKU1NT0apVK537sX79elhbW+PYsWP45JNPsGTJEqxatarYGhdn6tSp+PPPP/HLL78gKSkJX3zxBTw8PAA8/USP8PBwVKpUCQcPHsShQ4ekAJuXl6e1v7t37+LPP/9Es2bNyjSe7777DoGBgRr/ESlM1z02hRCIj49HcnIy2rVrp/FcSEgIDh48WKbxEO8DKBtJqZmmHgKRRXukykfQtD0lNzSCP2eFw9G25F/X1tbWWLduHaKiorBy5Uo0b94c7du3R//+/dG4ceNi150wYQJ69OgBAJg5cyYaNGiAS5cuoV69eli+fDm6desmhZu6devi8OHD+Omnn3T2N336dCxevBivvvoqAKBmzZr4888/8eWXXyIyMlLrOp999hmaNWuGefPmScvWrFkDX19f/P3336hbt65G+2vXrmHt2rW4du0afHx8pP3YvXs31q5dK/WjUqnwxRdfICAgAADw2muvYcOGDUhPT4ezszOCgoLQsWNH/Pbbb3j99ddx7do1bNq0CVeuXEH16tWL7XflypVSv9HR0Zg1axaAp2HcwcEBubm58PLyKrb2AODr64ulS5dCoVAgMDAQ58+fx9KlSxEVFVXiutpcu3YNzZo1Q4sWLQAA/v7+0nNbtmyBWq3GqlWrpOC1du1auLq6IiEhAWFhYVr7K/gkkGf99NNPcHZ21lj27EfF/f333wgMDNRYNm7cOCnkurq64vr169JzDx48QLVq1ZCbmwulUonPP/8cXbt21Vjfx8cH//77L9RqNW/5UgasmEzYKPlSEVHJ+vTpg5s3b+LHH39EREQEEhIS0Lx5c52HCgsUDoje3t4AgFu3bgEAkpOTERISotH+2ceFZWdn4/Llyxg2bJg0K+ns7Iw5c+bg8uXLACAd5i24EAAAzp49i99++01jnXr16gGAtF5h58+fR35+PurWrauxzv79+zXaOzo6SiENAKpWrQp/f3+N0FK1alVpfwv6rVev3nP16+3tLfXxvF588UWNWbCWLVvi4sWLZf7M3dGjR2Pz5s1o2rQpJk2ahMOHD0vPnT17FpcuXUKlSpWkfXN3d8fjx4+11hkAHj16BABab6jcsWNHnDlzRuOrNLOXH374Ic6cOYNp06YhKytL47lKlSrhzJkzOH78OObOnYuYmJgih9AdHBygVqufe7abnuIMoExUoE+gIpIlBxsl/pxVtvOfDLHt52Fvb4+uXbuia9eumDp1KoYPH47p06djyJAhOtexsbGRvi8IImW9wrLgj/nXX3+N0NBQjeeUyqf7smrVKilUFGw7KysLL7/8MubPn1+kz4JQ+ux2lEolTp48KfVboHC4K7xvwNP907asYH8L+j1+/HiRdiX1W9rD9c9LW98qlUpn+27duuHq1avYtWsX4uLi0LlzZ4wZMwaLFi1CVlYWgoODsWnTpiLreXp6au2v4PBx4at6Czg5OaF27doaywrP5gFAnTp1kJycXGRbnp6eqFKlSpE+rayspD6bNm2KpKQkxMbGokOHDlKbu3fvwsnJCQ4ODlrHTMVjAJQJI/1OIaJSUigUpToMa46CgoL0uu9fYGAgjh8/rrHs2ceFVa1aFT4+Pvjnn38wcOBArW2qVatWZFnz5s2xbds2+Pv7w9q65Fo3a9YM+fn5uHXrFtq2bVti+9Iq3G/79u3L3I+trW2pZ/COHj2q8fjIkSOoU6eOFGw9PT2lC0wA4OLFi8jJySm2T09PT0RGRiIyMhJt27bFxIkTsWjRIjRv3hxbtmxBlSpV4OLiUqrxBQQEwMXFBcnJyWjevHmp1ilswIABeOONN/DDDz+gZ8+ez72+tpm+CxculPmcROIhYNlQMwASUQkyMjLQqVMnbNy4EefOnUNKSgq2bt2KBQsWlOmPboF33nkHu3btwpIlS3Dx4kV8+eWX+OWXX3SeuA88PY8wNjYWn376Kf7++2+cP38ea9euxZIlS3SuM2bMGNy9excDBgzA8ePHcfnyZezZswdDhw7VGqTq1q2LgQMHYvDgwdi+fTtSUlJw7NgxxMbG4ueffy7z/tatWxd9+/bFkCFD9OrX398f586dQ3JyMu7cuVPsjN21a9cQExOD5ORkfPfdd1i+fDnGjh0rPd+pUyd89tlnOH36NE6cOIFRo0YVmYEsbNq0afjhhx9w6dIl/PHHH/jpp59Qv359AMDAgQPh4eGBnj174uDBg0hJSUFCQgLefffdIjN3BaysrNC5c2ccOXKk1PtfWP/+/fHaa6+hf//+mDVrFo4ePYorV65g//792LJli8YMbmxsLOLi4vDPP/8gKSkJixcvxoYNG/Dmm29q9Hnw4EGt5ytS6TAAyoSxDisQUcXh7OyM0NBQLF26FO3atUPDhg0xdepUREVF4bPPPitzv61bt8bKlSuxZMkSNGnSBLt378b48eO1ng9WYPjw4Vi1ahXWrl2LRo0aoX379li3bh1q1qypcx0fHx8cOnQI+fn5CAsLQ6NGjTBu3Di4urrqPMl/7dq1GDx4MN577z0EBgaiV69eOH78OGrUqFHm/QWAFStWYNCgQXr1GxUVhcDAQLRo0QKenp4aN+N+1uDBg/Ho0SOEhIRgzJgxGDt2LEaMGCE9v3jxYvj6+qJt27Z44403MGHCBDg6Oursz9bWFlOmTEHjxo3Rrl07KJVK6ZYpjo6OOHDgAGrUqIFXX30V9evXx7Bhw/D48eNiZwSHDRuG7du3l+nUAIVCgS1btmDZsmXYtWsXOnfujMDAQLz11lvw9fXVuMVLdnY23n77bTRo0ACtW7fGtm3bsHHjRgwfPlxqc+PGDRw+fBhDhw597rHQUwrBZFFmmZmZqFy5Mh48eFDqafTSUqlU2LVrF8YmPj0M0jHQE2uH6j7p2lIU1KV79+7F/u/X0rAuupW1No8fP0ZKSgpq1qxZbNCRK7VajczMTLi4uJTpCsqoqCj89ddfFfI2HPrW5nl16NABTZs2xbJly4y+LX3k5+cjJCQEMTExOg/tl5f3338f9+7dw1dffaWzTXE/w8b8+y0X8jyhxQIxpRORKS1atAhdu3aFk5MTfvnlF6xfv75UN3amikOhUGDZsmX4559/TD0UVKlSBTExMaYehqwxAMoEzwEkIlM6duwYFixYgIcPH6JWrVr49NNPNQ7JkWVo1KgRWrdubeph4L333jP1EGSPAZCIiEr03//+19RDqLB0fUQckTHxIhAiIiIiC8MAKBO8DzQREREZCgMgEVExeKMEInniz27xGACJiLQouGVMSZ+2QETmqeBnl7fG0o4XgcgEPwuYqHwplUq4urri1q1bAJ7ePLe4T76QG7Vajby8PDx+/Lhc7nUnJ6yNdnKpixACOTk5uHXrFlxdXYt8TjQ9xQBIRKSDl5cXAEghsCIRQuDRo0dwcHCoUMHWEFgb7eRWF1dXV+lnmIpiACQi0kGhUMDb2xtVqlQp9nNc5UilUuHAgQNo164dD5E9g7XRTk51sbGx4cxfCWQVAFesWIGFCxciLS0NTZo0wfLlyxESov3j0Tp06ID9+/cXWd69e3fpw7yHDBmC9evXazwfHh6O3bt3G37wRCRbSqWywv0xUSqVePLkCezt7c3+j3l5Y220Y10qFtkEwC1btiAmJgYrV65EaGgoli1bhvDwcCQnJ6NKlSpF2m/fvh15eXnS44yMDDRp0gR9+/bVaBcREYG1a9dKj+3s7Iy3E3ow/8l2IiIikgvzPYvzGUuWLEFUVBSGDh2KoKAgrFy5Eo6OjlizZo3W9u7u7vDy8pK+4uLi4OjoWCQA2tnZabRzc3Mrj90hIiIiMhlZzADm5eXh5MmTmDJlirTMysoKXbp0QWJiYqn6WL16Nfr37w8nJyeN5QkJCahSpQrc3NzQqVMnzJkzBy+88ILWPnJzc5Gbmys9zszMBPD0vAhDnx/0bH9CiAp3DlJZFNSAtdDEuujG2mjHuujG2mhXkepSEfZBXwohgzsl3rx5E9WqVcPhw4fRsmVLafmkSZOwf/9+HD16tNj1jx07htDQUBw9elTjnMHNmzfD0dERNWvWxOXLl/HBBx/A2dkZiYmJWs/3mTFjBmbOnFlk+bfffgtHR0c99lC3sYlPM3qQqxoj66uNsg0iIiJLkpOTgzfeeAMPHjyAi4uLqYdjErKYAdTX6tWr0ahRoyIXjPTv31/6vlGjRmjcuDECAgKQkJCAzp07F+lnypQpiImJkR5nZmbC19cXYWFhBn8DqVQqxMXFSY+rVKmC7t2bG3QbclRQl65du/Ik5EJYF91YG+1YF91YG+0qUl0KjuBZMlkEQA8PDyiVSqSnp2ssT09PL/EeP9nZ2di8eTNmzZpV4nZq1aoFDw8PXLp0SWsAtLOz03qRiI2NjdF/GJRWVrL/gTOk8qi5HLEuurE22rEuurE22lWEush9/IYgi4tAbG1tERwcjPj4eGmZWq1GfHy8xiFhbbZu3Yrc3Fy8+eabJW7n+vXryMjIgLe3t95jJiIiIjJXsgiAABATE4Ovv/4a69evR1JSEkaPHo3s7GwMHToUADB48GCNi0QKrF69Gr169SpyYUdWVhYmTpyII0eO4MqVK4iPj0fPnj1Ru3ZthIeHl8s+EREREZmCLA4BA8Drr7+O27dvY9q0aUhLS0PTpk2xe/duVK1aFQBw7dq1Ip9NmJycjN9//x179+4t0p9SqcS5c+ewfv163L9/Hz4+PggLC8Ps2bPN9l6ARERERIYgmwAIANHR0YiOjtb6XEJCQpFlgYGB0HWRs4ODA/bs2WPI4RmVDD52kYiIiGRCNoeAiYiIiMgwGABlg1OAREREZBgMgEREREQWhgGQiIiIyMIwAJqxwtev8CIQIiIiMhQGQDNm9h/STERERLLEAGjGGACJiIjIGBgAzRkTIBERERkBA6AZK5z/eAogERERGQoDoBnjBCAREREZAwOgGdPxKXZEREREemEANGMah4B5DJiIiIgMhAHQjHECkIiIiIyBAdCM8RAwERERGQMDoBlj/iMiIiJjYAA0YxofBccbwRAREZGBMAASERERWRgGQDPGq4CJiIjIGBgAzZi6UALkBSFERERkKAyAMqFmAiQiIiIDYQA0Y4x8REREZAwMgGas8KQfwyAREREZCgOgGSsc+ngEmIiIiAyFAdCMMfMRERGRMTAAmjHNWT/GQSIiIjIMBkCZ4CFgIiIiMhQGQDMmdHxPREREpA8GQDOmZuojIiIiI2AAlAnBY8BERERkIAyAZoyHgImIiMgYGADNGCf9iIiIyBgYAM0YbwRNRERExsAAaMZ4CJiIiIiMgQHQjHHWj4iIiIyBAVAmeBUwERERGQoDoBlj5CMiIiJjYAA0Y5z0IyIiImOQVQBcsWIF/P39YW9vj9DQUBw7dkxn23Xr1kGhUGh82dvba7QRQmDatGnw9vaGg4MDunTpgosXLxp7N0qNVwETERGRMcgmAG7ZsgUxMTGYPn06Tp06hSZNmiA8PBy3bt3SuY6LiwtSU1Olr6tXr2o8v2DBAnz66adYuXIljh49CicnJ4SHh+Px48fG3p1SKRz6BA8IExERkYHIJgAuWbIEUVFRGDp0KIKCgrBy5Uo4OjpizZo1OtdRKBTw8vKSvqpWrSo9J4TAsmXL8NFHH6Fnz55o3LgxvvnmG9y8eRM7d+4shz0qGSMfERERGYMsAmBeXh5OnjyJLl26SMusrKzQpUsXJCYm6lwvKysLfn5+8PX1Rc+ePfHHH39Iz6WkpCAtLU2jz8qVKyM0NLTYPssTDwETERGRMVibegClcefOHeTn52vM4AFA1apV8ddff2ldJzAwEGvWrEHjxo3x4MEDLFq0CK1atcIff/yB6tWrIy0tTerj2T4LnntWbm4ucnNzpceZmZkAAJVKBZVKVeb90+bZ/tRqtcG3IUcFNWAtNLEuurE22rEuurE22lWkulSEfdCXLAJgWbRs2RItW7aUHrdq1Qr169fHl19+idmzZ5epz9jYWMycObPI8r1798LR0bHMY9VFXWjW705GBnbt2mXwbchVXFycqYdgllgX3Vgb7VgX3Vgb7SpCXXJyckw9BJOTRQD08PCAUqlEenq6xvL09HR4eXmVqg8bGxs0a9YMly5dAgBpvfT0dHh7e2v02bRpU619TJkyBTExMdLjzMxM+Pr6IiwsDC4uLs+zSyVSqVS4vO1/P2QvvPACunf/j0G3IUcqlQpxcXHo2rUrbGxsTD0cs8G66MbaaMe66MbaaFeR6lJwBM+SySIA2traIjg4GPHx8ejVqxeAp4dE4+PjER0dXao+8vPzcf78eXTv3h0AULNmTXh5eSE+Pl4KfJmZmTh69ChGjx6ttQ87OzvY2dkVWW5jY2OUHwbN8/4Usv+BMyRj1VzuWBfdWBvtWBfdWBvtKkJd5D5+Q5BFAASAmJgYREZGokWLFggJCcGyZcuQnZ2NoUOHAgAGDx6MatWqITY2FgAwa9YsvPjii6hduzbu37+PhQsX4urVqxg+fDiAp1cIjxs3DnPmzEGdOnVQs2ZNTJ06FT4+PlLINDUBRaHviYiIiAxDNgHw9ddfx+3btzFt2jSkpaWhadOm2L17t3QRx7Vr12Bl9b+Lmu/du4eoqCikpaXBzc0NwcHBOHz4MIKCgqQ2kyZNQnZ2NkaMGIH79++jTZs22L17d5EbRpsKQx8REREZg2wCIABER0frPOSbkJCg8Xjp0qVYunRpsf0pFArMmjULs2bNMtQQDUrofEBERERUdrK4D6Cl4ieBEBERkTEwABIRERFZGAZAM6YxA8gJQCIiIjIQBkAzJnR8T0RERKQPBkAzxtBHRERExsAAaMY0ZgB5DJiIiIgMhAHQnAmt3xIRERHphQHQjDH0ERERkTEwAJoxzUPAJhsGERERVTAMgGZM8BAwERERGQEDIBEREZGFYQA0Y5qfBcw5QCIiIjIMBkAzxhtBExERkTEwAJozfhQcERERGQEDoBlj5iMiIiJjYAA0Y5qHgBkHiYiIyDAYAM2Y4CFgIiIiMgIGQDPGzEdERETGwAAoE5wBJCIiIkNhADRj/CQQIiIiMgYGQDPG0EdERETGwABoxjSuAuYxYCIiIjIQBkAzxsxHRERExsAASERERGRhGADNmOYhYJMNg4iIiCoYBkAzxk8CISIiImNgADRjnPUjIiIiY2AAlAmGQSIiIjIUBkAzJnR8T0RERKQPBkAzpvFJIJwCJCIiIgNhACQiIiKyMAyAZkxd6HvO/xEREZGhMADKBRMgERERGQgDoBnjaX9ERERkDAyAZoxXARMREZExMADKBK8CJiIiIkNhADRjzHxERERkDAyAZoyHgImIiMgYZBUAV6xYAX9/f9jb2yM0NBTHjh3T2fbrr79G27Zt4ebmBjc3N3Tp0qVI+yFDhkChUGh8RUREGHs3Sk0jADIBEhERkYHIJgBu2bIFMTExmD59Ok6dOoUmTZogPDwct27d0to+ISEBAwYMwG+//YbExET4+voiLCwMN27c0GgXERGB1NRU6eu7774rj90pFYY+IiIiMgbZBMAlS5YgKioKQ4cORVBQEFauXAlHR0esWbNGa/tNmzbh7bffRtOmTVGvXj2sWrUKarUa8fHxGu3s7Ozg5eUlfbm5uZXH7jw3wYPAREREZCCyCIB5eXk4efIkunTpIi2zsrJCly5dkJiYWKo+cnJyoFKp4O7urrE8ISEBVapUQWBgIEaPHo2MjAyDjl0fPARMRERExmBt6gGUxp07d5Cfn4+qVatqLK9atSr++uuvUvXx/vvvw8fHRyNERkRE4NVXX0XNmjVx+fJlfPDBB+jWrRsSExOhVCqL9JGbm4vc3FzpcWZmJgBApVJBpVKVZdd0UqlUmqFPCINvQ44KasBaaGJddGNttGNddGNttKtIdakI+6AvWQRAfX388cfYvHkzEhISYG9vLy3v37+/9H2jRo3QuHFjBAQEICEhAZ07dy7ST2xsLGbOnFlk+d69e+Ho6GjwcQsopO9zHj3Crl27DL4NuYqLizP1EMwS66Iba6Md66Iba6NdRahLTk6OqYdgcrIIgB4eHlAqlUhPT9dYnp6eDi8vr2LXXbRoET7++GP8+uuvaNy4cbFta9WqBQ8PD1y6dElrAJwyZQpiYmKkx5mZmdLFJS4uLs+xRyVTqVT4Zc3/zle0t3dA9+7tDLoNOVKpVIiLi0PXrl1hY2Nj6uGYDdZFN9ZGO9ZFN9ZGu4pUl4IjeJZMFgHQ1tYWwcHBiI+PR69evQBAuqAjOjpa53oLFizA3LlzsWfPHrRo0aLE7Vy/fh0ZGRnw9vbW+rydnR3s7OyKLLexsTHKD8Oz5/3J/QfOkIxVc7ljXXRjbbRjXXRjbbSrCHWR+/gNQRYXgQBATEwMvv76a6xfvx5JSUkYPXo0srOzMXToUADA4MGDMWXKFKn9/PnzMXXqVKxZswb+/v5IS0tDWloasrKyAABZWVmYOHEijhw5gitXriA+Ph49e/ZE7dq1ER4ebpJ9fBav+yAiIiJjkMUMIAC8/vrruH37NqZNm4a0tDQ0bdoUu3fvli4MuXbtGqys/pdnv/jiC+Tl5eG1117T6Gf69OmYMWMGlEolzp07h/Xr1+P+/fvw8fFBWFgYZs+erXWWz9QYBomIiMhQZBMAASA6OlrnId+EhASNx1euXCm2LwcHB+zZs8dAIzMOdaHveRsYIiIiMhTZHAK2SAx9REREZAQMgGZM4zaATINERERkIAyAZoyfBEJERETGwABozhj6iIiIyAgYAM2YxkUgJhsFERERVTQMgDLBQ8BERERkKAyAZoyZj4iIiIyBAdCMac76MQ4SERGRYTAAygQPARMREZGhMACaMWY+IiIiMgYGQDNWeNaPYZCIiIgMhQHQjGneCJoRkIiIiAyDAZCIiIjIwjAAmjEeAiYiIiJjYAA0Y/wsYCIiIjIGBkCZ4DmAREREZCgMgGZMzcxHRERERsAAKBPMgkRERGQoDIBmTF34ARMgERERGQgDoBnjaX9ERERkDAyAZkzN28AQERGRETAAmjF+EggREREZAwOgGWPkIyIiImNgADRjPARMRERExsAAaMY0PgqOCZCIiIgMhAHQjDHzERERkTEwAJoxzUPAjINERERkGAyAZkzzKmCTDYOIiIgqGAZAM8bQR0RERMbAAGjGCn8UnACw63wqPk+4xHsCEhERkV6sTT0A0k0j5wlg4tazyM7LR6NqldG2jqfJxkVERETyxgBoxgQU0vd5+Wrk5T/9/ub9RyYaEREREVUEPARsxtQ6jvQ+0fUEERERUSkwAJoxXTHvXnZeuY6DiIiIKhYGQDOm61qPu9mq8h0IERERVSgMgGZM15Heu9m55TsQIiIiqlAYAM2YrkPAGTwETERERHpgADRjumcAGQCJiIio7GQVAFesWAF/f3/Y29sjNDQUx44dK7b91q1bUa9ePdjb26NRo0bYtWuXxvNCCEybNg3e3t5wcHBAly5dcPHiRWPuwnPRNQPIAEhERET6kE0A3LJlC2JiYjB9+nScOnUKTZo0QXh4OG7duqW1/eHDhzFgwAAMGzYMp0+fRq9evdCrVy9cuHBBarNgwQJ8+umnWLlyJY4ePQonJyeEh4fj8ePH5bVbxdJ1EUhGdh4/DYSIiIjKTDYBcMmSJYiKisLQoUMRFBSElStXwtHREWvWrNHa/pNPPkFERAQmTpyI+vXrY/bs2WjevDk+++wzAE9n/5YtW4aPPvoIPXv2ROPGjfHNN9/g5s2b2LlzZznumW5qHcvznqiRlmkeIZWIiIjkRxafBJKXl4eTJ09iypQp0jIrKyt06dIFiYmJWtdJTExETEyMxrLw8HAp3KWkpCAtLQ1dunSRnq9cuTJCQ0ORmJiI/v37F+kzNzcXubn/uwI3MzMTAKBSqaBSGe7WLEIInLp6F3eLudh35IYT8HN3NNg25UKtFkhLs8LeLWdhZaUoeQULwbroxtpox7roxtpoZ6q6hAdVRXiDqgbt05B/s+VKFgHwzp07yM/PR9Wqmm+AqlWr4q+//tK6Tlpamtb2aWlp0vMFy3S1eVZsbCxmzpxZZPnevXvh6Gi4MLb5shUSb1kB0P0Ddu56Js5dzzTYNuXFCriTbupBmCHWRTfWRjvWRTfWRrvyr4vq7g3kXzXsaU85OTkG7U+OZBEAzcWUKVM0ZhUzMzPh6+uLsLAwuLi4GGw7T86mIvH781qfa+jjgpiutfHP7WydVwlXZOr8fCT/nYzAuoGwUipNPRyzwbroxtpox7roxtpoZ6q6NPWtjGa+rgbts+AIniWTRQD08PCAUqlEerrm/zrS09Ph5eWldR0vL69i2xf8m56eDm9vb402TZs21dqnnZ0d7Ozsiiy3sbGBjY1NqfenJC1qvqDzORtrK3Sq741O9Q22OVlRqVTY9fAvdG9by6A1lzvWRTfWRjvWRTfWRruKVBe5j98QZHERiK2tLYKDgxEfHy8tU6vViI+PR8uWLbWu07JlS432ABAXFye1r1mzJry8vDTaZGZm4ujRozr7LC/V3Ryh1HF+hY2VLF4yIiIiMmOymAEEgJiYGERGRqJFixYICQnBsmXLkJ2djaFDhwIABg8ejGrVqiE2NhYAMHbsWLRv3x6LFy9Gjx49sHnzZpw4cQJfffUVAEChUGDcuHGYM2cO6tSpg5o1a2Lq1Knw8fFBr169TLWbAACllQJujja4k1X0fn+6giERERFRackmAL7++uu4ffs2pk2bhrS0NDRt2hS7d++WLuK4du0arArNjrVq1QrffvstPvroI3zwwQeoU6cOdu7ciYYNG0ptJk2ahOzsbIwYMQL3799HmzZtsHv3btjb25f7/j3rBSdbrQHQWskASERERPqRTQAEgOjoaERHR2t9LiEhociyvn37om/fvjr7UygUmDVrFmbNmmWoIRrMC062WpdzBpCIiIj0xRPKzJS7jgBopWAAJCIiIv0wAJopN50BsJwHQkRERBUOA6CZcrHXfnRewRlAIiIi0hMDoJmyt9b+0jD+ERERkb4YAM2Ug632u6zzHEAiIiLSFwOgmXqxprvW5cx/REREpC8GQDMV6FUJI+rl44e3X9RYzhlAIiIi0hcDoBlr4Cbg/4KjxjLmPyIiItIXA6CZUzxz2QevAiYiIiJ9MQCauWfzHu8DSERERPpiAJQZ5j8iIiLSFwOgmXs28PEiECIiItIXA6C5U/AcQCIiIjIsBkAz92zcY/4jIiIifTEAmjleBEJERESGxgAoM8/eFoaIiIjoeTEAmrkiF4HwFSMiIiI9MU6YuWcv+uBFIERERKQvBkAzV+QiEJOMgoiIiCoSBkAzV/QiEEZAIiIi0g8DoJkregjYRAMhIiKiCoMBUGY4A0hERET6YgCUGeY/IiIi0hcDoAwUDn28DyARERHpiwFQBgpHPn4SCBEREemLAVAGCl8IwkPAREREpC8GQBnQnAFkAiQiIiL9MADKDD8JhIiIiPTFACgDGheBMP8RERGRnhgAZaDwlb+8CISIiIj0xQAoB7wNDBERERkQA6AM8DYwREREZEgMgDLDi0CIiIhIXwyAMsCLQIiIiMiQGABlQPMiECZAIiIi0g8DoAxofhYwERERkX4YAGVA4yIQXgVCREREemIAlAF+FjAREREZktkHwLt372LgwIFwcXGBq6srhg0bhqysrGLbv/POOwgMDISDgwNq1KiBd999Fw8ePNBop1Aoinxt3rzZ2LujN94HkIiIiPRlbeoBlGTgwIFITU1FXFwcVCoVhg4dihEjRuDbb7/V2v7mzZu4efMmFi1ahKCgIFy9ehWjRo3CzZs38f3332u0Xbt2LSIiIqTHrq6uxtyVMuN9AImIiMiQzDoAJiUlYffu3Th+/DhatGgBAFi+fDm6d++ORYsWwcfHp8g6DRs2xLZt26THAQEBmDt3Lt588008efIE1tb/22VXV1d4eXkZf0f0xdvAEBERkQGZdQBMTEyEq6urFP4AoEuXLrCyssLRo0fRu3fvUvXz4MEDuLi4aIQ/ABgzZgyGDx+OWrVqYdSoURg6dGixN1rOzc1Fbm6u9DgzMxMAoFKpoFKpnmfXSlTQn0ql0pgBFGq1wbclJ4XrQv/DuujG2mjHuujG2mhXkepSEfZBX2YdANPS0lClShWNZdbW1nB3d0daWlqp+rhz5w5mz56NESNGaCyfNWsWOnXqBEdHR+zduxdvv/02srKy8O677+rsKzY2FjNnziyyfO/evXB0dCzVeJ5XXFwcnqiUKJgG/OuvJOx68KdRtiUncXFxph6CWWJddGNttGNddGNttKsIdcnJyTH1EEzOJAFw8uTJmD9/frFtkpKS9N5OZmYmevTogaCgIMyYMUPjualTp0rfN2vWDNnZ2Vi4cGGxAXDKlCmIiYnR6N/X1xdhYWFwcXHRe7yFqVQqxMXFoWvXrph+5nfkPHr6v5WgoCB0b+ln0G3JSeG62NjYmHo4ZoN10Y210Y510Y210a4i1aXgCJ4lM0kAfO+99zBkyJBi29SqVQteXl64deuWxvInT57g7t27JZ679/DhQ0RERKBSpUrYsWNHiW/W0NBQzJ49G7m5ubCzs9Paxs7OTutzNjY2RvthsLGx0TgH0EaplP0PniEYs+Zyxrroxtpox7roxtpoVxHqIvfxG4JJAqCnpyc8PT1LbNeyZUvcv38fJ0+eRHBwMABg3759UKvVCA0N1bleZmYmwsPDYWdnhx9//BH29vYlbuvMmTNwc3PTGf5MqfA5gMWdo0hERERUGmZ9DmD9+vURERGBqKgorFy5EiqVCtHR0ejfv790BfCNGzfQuXNnfPPNNwgJCUFmZibCwsKQk5ODjRs3IjMzU5rq9fT0hFKpxP/93/8hPT0dL774Iuzt7REXF4d58+ZhwoQJptxdnQqHPt4GhoiIiPRl1gEQADZt2oTo6Gh07twZVlZW6NOnDz799FPpeZVKheTkZOmEzlOnTuHo0aMAgNq1a2v0lZKSAn9/f9jY2GDFihUYP348hBCoXbs2lixZgqioqPLbsefAGUAiIiIyJLMPgO7u7jpv+gwA/v7+EEJIjzt06KDxWJuIiAiNG0CbOwXvA0hEREQGZPYfBUearJgAiYiISE8MgLKg0PIdERERUdkwAMpA4Uk/zgASERGRvhgAZUDzIhCTDYOIiIgqCAZAGdC8CIQJkIiIiPTDACgDCvA+gERERGQ4DIAyw3MAiYiISF8MgDLA+wASERGRITEAygA/CYSIiIgMiQFQBgqHPsY/IiIi0hcDoMzwHEAiIiLSFwOgDGjeCNp04yAiIqKKgQFQZjgBSERERPpiAJQB3giaiIiIDIkBUAYK3wia8Y+IiIj0xQAoA5rnADICEhERkX4YAGWgcOSz4itGREREemKckBkFDwITERGRnhgAZUDjRtDMf0RERKQnBkAZ4EfBERERkSExAMoBbwRNREREBsQAKAMaF4FwBpCIiIj0xAAoAxrnAJpwHERERFQxMADKDRMgERER6YkBUAZ4CJiIiIgMiQFQBjQ+C9h0wyAiIqIKggFQBjQ+C5gzgERERKQnBkAZ0JgBZP4jIiIiPTEAygzvA0hERET6YgCUHSZAIiIi0g8DoAzws4CJiIjIkBgAZYC3gSEiIiJDYgCUAd4GhoiIiAyJAVAGeBUwERERGRIDoMwoOAdIREREemIAlAHNG0GbcCBERERUITAAygAPARMREZEhmX0AvHv3LgYOHAgXFxe4urpi2LBhyMrKKnadDh06QKFQaHyNGjVKo821a9fQo0cPODo6okqVKpg4cSKePHlizF0pM4XG90yAREREpB9rUw+gJAMHDkRqairi4uKgUqkwdOhQjBgxAt9++22x60VFRWHWrFnSY0dHR+n7/Px89OjRA15eXjh8+DBSU1MxePBg2NjYYN68eUbblzIrNO1nZfaRnYiIiMydWQfApKQk7N69G8ePH0eLFi0AAMuXL0f37t2xaNEi+Pj46FzX0dERXl5eWp/bu3cv/vzzT/z666+oWrUqmjZtitmzZ+P999/HjBkzYGtra5T9KSvOABIREZEhmfV8UmJiIlxdXaXwBwBdunSBlZUVjh49Wuy6mzZtgoeHBxo2bIgpU6YgJydHo99GjRqhatWq0rLw8HBkZmbijz/+MPyOGBDPASQiIiJ9mfUMYFpaGqpUqaKxzNraGu7u7khLS9O53htvvAE/Pz/4+Pjg3LlzeP/995GcnIzt27dL/RYOfwCkx8X1m5ubi9zcXOlxZmYmAEClUkGlUj3fzpWgoL+n/wpp+ZMnTwy+LTnRrAsVYF10Y220Y110Y220q0h1qQj7oC+TBMDJkydj/vz5xbZJSkoqc/8jRoyQvm/UqBG8vb3RuXNnXL58GQEBAWXuNzY2FjNnziyyfO/evRrnGBpSXFwc7t9TouBA8O8HD+Cig1E2JStxcXGmHoJZYl10Y220Y110Y220qwh1KXxU0FKZJAC+9957GDJkSLFtatWqBS8vL9y6dUtj+ZMnT3D37l2d5/dpExoaCgC4dOkSAgIC4OXlhWPHjmm0SU9PB4Bi+50yZQpiYmKkx5mZmfD19UVYWBhcXFxKPZ7SUKlUiIuLQ9euXbH+xmlcyboPAGjfrj1qeToZdFtyUrguNjY2ph6O2WBddGNttGNddGNttKtIdSk4gmfJTBIAPT094enpWWK7li1b4v79+zh58iSCg4MBAPv27YNarZZCXWmcOXMGAODt7S31O3fuXNy6dUs6xBwXFwcXFxcEBQXp7MfOzg52dnZFltvY2Bjth8HGxgZWhU78s7Gxlv0PniEYs+Zyxrroxtpox7roxtpoVxHqIvfxG4JZXwRSv359REREICoqCseOHcOhQ4cQHR2N/v37S1cA37hxA/Xq1ZNm9C5fvozZs2fj5MmTuHLlCn788UcMHjwY7dq1Q+PGjQEAYWFhCAoKwqBBg3D27Fns2bMHH330EcaMGaM14Jla4Qs/rHgVCBEREenJrAMg8PRq3nr16qFz587o3r072rRpg6+++kp6XqVSITk5WTqeb2tri19//RVhYWGoV68e3nvvPfTp0wf/93//J62jVCrx008/QalUomXLlnjzzTcxePBgjfsGmivmPyIiItKXWV8FDADu7u7F3vTZ398fQvzvKllfX1/s37+/xH79/Pywa9cug4zR2DQ+C5j3ASQiIiI9mf0MIEHjTtCcASQiIiJ9MQDKgMYngTAAEhERkZ4YAGVAoTEDyARIRERE+mEAlBnGPyIiItIXA6AMFL7wg7eBISIiIn0xAMqAgheBEBERkQExAMqARgA03TCIiIiogmAAlAGNe/8xARIREZGeGABlgB8FR0RERIbEACgzjH9ERESkLwZAmeF9AImIiEhfDIAyUOijjmHF/EdERER6YgCUGQUPAhMREZGeGADlhvmPiIiI9MQAKAMC/zsGzFMAiYiISF8MgDKgeQ4gEyARERHphwFQZhj/iIiISF8MgDLDCUAiIiLSFwOgDPAQMBERERkSA6AMFL4IhIiIiEhfDIAywwlAIiIi0hcDoAwUPgTMG0ETERGRvhgAZYYfBUdERET6YgCUGQWPARMREZGeGABlhvGPiIiI9MUAKAOFrwHmBCARERHpiwFQDgpfBMIESERERHpiACQiIiKyMAyAMsAbQRMREZEhMQASERERWRgGQCIiIiILwwAoA4JHgImIiMiAGABlgPmPiIiIDIkBkIiIiMjCMAASERERWRgGQBkQPAmQiIiIDIgBUAYY/4iIiMiQGACJiIiILIzZB8C7d+9i4MCBcHFxgaurK4YNG4asrCyd7a9cuQKFQqH1a+vWrVI7bc9v3ry5PHaJiIiIyKSsTT2AkgwcOBCpqamIi4uDSqXC0KFDMWLECHz77bda2/v6+iI1NVVj2VdffYWFCxeiW7duGsvXrl2LiIgI6bGrq6vBx28IPAWQiIiIDMmsA2BSUhJ2796N48ePo0WLFgCA5cuXo3v37li0aBF8fHyKrKNUKuHl5aWxbMeOHejXrx+cnZ01lru6uhZpS0RERFTRmfUh4MTERLi6ukrhDwC6dOkCKysrHD16tFR9nDx5EmfOnMGwYcOKPDdmzBh4eHggJCQEa9as4dW2REREZBHMegYwLS0NVapU0VhmbW0Nd3d3pKWllaqP1atXo379+mjVqpXG8lmzZqFTp05wdHTE3r178fbbbyMrKwvvvvuuzr5yc3ORm5srPc7MzAQAqFQqqFSq0u5WqRT0p1KpoBbqIsstVeG60P+wLrqxNtqxLrqxNtpVpLpUhH3Ql0kC4OTJkzF//vxi2yQlJem9nUePHuHbb7/F1KlTizxXeFmzZs2QnZ2NhQsXFhsAY2NjMXPmzCLL9+7dC0dHR73Hq01cXBzu31MCUAAAdu3aZZTtyE1cXJyph2CWWBfdWBvtWBfdWBvtKkJdcnJyTD0Ek1MIExz3vH37NjIyMoptU6tWLWzcuBHvvfce7t27Jy1/8uQJ7O3tsXXrVvTu3bvYPjZs2IBhw4bhxo0b8PT0LLbtzz//jJdeegmPHz+GnZ2d1jbaZgB9fX1x584duLi4FNv/81KpVIiLi0PXrl3Rf/VJnLvxdLbx4uwwg25HbgrXxcbGxtTDMRusi26sjXasi26sjXYVqS6ZmZnw8PDAgwcPDP73Wy5MMgPo6elZYiADgJYtW+L+/fs4efIkgoODAQD79u2DWq1GaGhoieuvXr0ar7zySqm2debMGbi5uekMfwBgZ2en9XkbGxuj/TDY2NhAoVBoPCbj1lzOWBfdWBvtWBfdWBvtKkJd5D5+QzDrcwDr16+PiIgIREVFYeXKlVCpVIiOjkb//v2lK4Bv3LiBzp0745tvvkFISIi07qVLl3DgwAGth0z/7//+D+np6XjxxRdhb2+PuLg4zJs3DxMmTCi3fXsevDSFiIiIDMmsAyAAbNq0CdHR0ejcuTOsrKzQp08ffPrpp9LzKpUKycnJRY7nr1mzBtWrV0dYWNFDpjY2NlixYgXGjx8PIQRq166NJUuWICoqyuj7UxZqXp1MREREBmT2AdDd3V3nTZ8BwN/fX+vtW+bNm4d58+ZpXSciIkLjBtDmTq0uuQ0RERFRaZn1fQDpKc4AEhERkSExABIRERFZGAZAGeAEIBERERkSAyARERGRhWEAlIFCtwEkIiIi0hsDoAwomACJiIjIgBgAZYDxj4iIiAyJAVAGOAFIREREhsQAKAMMgERERGRIDIAyoOBBYCIiIjIgBkAZ4AwgERERGRIDoAww/xEREZEhMQDKAacAiYiIyIAYAOWAnwVHREREBsQAKAP5DIBERERkQAyAMtCneXUAgN8LjiYeCREREVUE1qYeAJVsYKgfPCvZ4cVaL5h6KERERFQBMADKgK21FV5q7GPqYRAREVEFwUPARERERBaGAZCIiIjIwjAAEhEREVkYBkAiIiIiC8MASERERGRhGACJiIiILAwDIBEREZGFYQAkIiIisjAMgEREREQWhgGQiIiIyMIwABIRERFZGAZAIiIiIgvDAEhERERkYaxNPQA5E0IAADIzMw3et0qlQk5ODjIzM2FjY2Pw/uWKddGOddGNtdGOddGNtdGuItWl4O92wd9xS8QAqIeHDx8CAHx9fU08EiIiInpeDx8+ROXKlU09DJNQCEuOv3pSq9W4efMmKlWqBIVCYdC+MzMz4evri3///RcuLi4G7VvOWBftWBfdWBvtWBfdWBvtKlJdhBB4+PAhfHx8YGVlmWfDcQZQD1ZWVqhevbpRt+Hi4iL7HzRjYF20Y110Y220Y110Y220qyh1sdSZvwKWGXuJiIiILBgDIBEREZGFYQA0U3Z2dpg+fTrs7OxMPRSzwrpox7roxtpox7roxtpox7pULLwIhIiIiMjCcAaQiIiIyMIwABIRERFZGAZAIiIiIgvDAEhERERkYRgATWTFihXw9/eHvb09QkNDcezYsWLbb926FfXq1YO9vT0aNWqEXbt2ldNIy9/z1GbdunVQKBQaX/b29uU42vJx4MABvPzyy/Dx8YFCocDOnTtLXCchIQHNmzeHnZ0dateujXXr1hl9nOXteeuSkJBQ5P2iUCiQlpZWPgMuJ7GxsfjPf/6DSpUqoUqVKujVqxeSk5NLXM8Sfs+UpTaW8Hvmiy++QOPGjaWbPLds2RK//PJLsetYwvulImMANIEtW7YgJiYG06dPx6lTp9CkSROEh4fj1q1bWtsfPnwYAwYMwLBhw3D69Gn06tULvXr1woULF8p55Mb3vLUBnt6VPjU1Vfq6evVqOY64fGRnZ6NJkyZYsWJFqdqnpKSgR48e6NixI86cOYNx48Zh+PDh2LNnj5FHWr6ety4FkpOTNd4zVapUMdIITWP//v0YM2YMjhw5gri4OKhUKoSFhSE7O1vnOpbye6YstQEq/u+Z6tWr4+OPP8bJkydx4sQJdOrUCT179sQff/yhtb2lvF8qNEHlLiQkRIwZM0Z6nJ+fL3x8fERsbKzW9v369RM9evTQWBYaGipGjhxp1HGawvPWZu3ataJy5crlNDrzAEDs2LGj2DaTJk0SDRo00Fj2+uuvi/DwcCOOzLRKU5fffvtNABD37t0rlzGZi1u3bgkAYv/+/TrbWNLvmcJKUxtL/D0jhBBubm5i1apVWp+z1PdLRcIZwHKWl5eHkydPokuXLtIyKysrdOnSBYmJiVrXSUxM1GgPAOHh4Trby1VZagMAWVlZ8PPzg6+vb7H/Y7UklvKeKaumTZvC29sbXbt2xaFDh0w9HKN78OABAMDd3V1nG0t9z5SmNoBl/Z7Jz8/H5s2bkZ2djZYtW2ptY6nvl4qEAbCc3blzB/n5+ahatarG8qpVq+o8DyktLe252stVWWoTGBiINWvW4IcffsDGjRuhVqvRqlUrXL9+vTyGbLZ0vWcyMzPx6NEjE43K9Ly9vbFy5Ups27YN27Ztg6+vLzp06IBTp06ZemhGo1arMW7cOLRu3RoNGzbU2c5Sfs8UVtraWMrvmfPnz8PZ2Rl2dnYYNWoUduzYgaCgIK1tLfH9UtFYm3oARPpo2bKlxv9QW7Vqhfr16+PLL7/E7NmzTTgyMkeBgYEIDAyUHrdq1QqXL1/G0qVLsWHDBhOOzHjGjBmDCxcu4Pfffzf1UMxOaWtjKb9nAgMDcebMGTx48ADff/89IiMjsX//fp0hkOSNM4DlzMPDA0qlEunp6RrL09PT4eXlpXUdLy+v52ovV2WpzbNsbGzQrFkzXLp0yRhDlA1d7xkXFxc4ODiYaFTmKSQkpMK+X6Kjo/HTTz/ht99+Q/Xq1Yttaym/Zwo8T22eVVF/z9ja2qJ27doIDg5GbGwsmjRpgk8++URrW0t7v1REDIDlzNbWFsHBwYiPj5eWqdVqxMfH6zzXomXLlhrtASAuLk5ne7kqS22elZ+fj/Pnz8Pb29tYw5QFS3nPGMKZM2cq3PtFCIHo6Gjs2LED+/btQ82aNUtcx1LeM2WpzbMs5feMWq1Gbm6u1ucs5f1SoZn6KhRLtHnzZmFnZyfWrVsn/vzzTzFixAjh6uoq0tLShBBCDBo0SEyePFlqf+jQIWFtbS0WLVokkpKSxPTp04WNjY04f/68qXbBaJ63NjNnzhR79uwRly9fFidPnhT9+/cX9vb24o8//jDVLhjFw4cPxenTp8Xp06cFALFkyRJx+vRpcfXqVSGEEJMnTxaDBg2S2v/zzz/C0dFRTJw4USQlJYkVK1YIpVIpdu/ebapdMIrnrcvSpUvFzp07xcWLF8X58+fF2LFjhZWVlfj1119NtQtGMXr0aFG5cmWRkJAgUlNTpa+cnBypjaX+nilLbSzh98zkyZPF/v37RUpKijh37pyYPHmyUCgUYu/evUIIy32/VGQMgCayfPlyUaNGDWFraytCQkLEkSNHpOfat28vIiMjNdr/97//FXXr1hW2traiQYMG4ueffy7nEZef56nNuHHjpLZVq1YV3bt3F6dOnTLBqI2r4PYlz34V1CIyMlK0b9++yDpNmzYVtra2olatWmLt2rXlPm5je966zJ8/XwQEBAh7e3vh7u4uOnToIPbt22eawRuRtpoA0HgPWOrvmbLUxhJ+z7z11lvCz89P2NraCk9PT9G5c2cp/Alhue+XikwhhBDlN99IRERERKbGcwCJiIiILAwDIBEREZGFYQAkIiIisjAMgEREREQWhgGQiIiIyMIwABIRERFZGAZAIiIiIgvDAEhERERGd+DAAbz88svw8fGBQqHAzp07jbq9GTNmQKFQaHzVq1fPqNuUEwZAIiIiMrrs7Gw0adIEK1asKLdtNmjQAKmpqdLX77//Xm7bNncMgEQWoEOHDhg3bpxstlNe4zW3bQNARkYGqlSpgitXrhh9W/3798fixYuNvh0iAOjWrRvmzJmD3r17a30+NzcXEyZMQLVq1eDk5ITQ0FAkJCTotU1ra2t4eXlJXx4eHnr1V5EwABJVALdv38bo0aNRo0YN2NnZwcvLC+Hh4Th06BAAYPv27Zg9e7aJR6mdtsBVXuM15bZ1mTt3Lnr27Al/f3+jb+ujjz7C3Llz8eDBA6Nvi6gk0dHRSExMxObNm3Hu3Dn07dsXERERuHjxYpn7vHjxInx8fFCrVi0MHDgQ165dM+CI5c3a1AMgIv316dMHeXl5WL9+PWrVqoX09HTEx8cjIyMDAODu7m7iET4fU47XlNvOycnB6tWrsWfPnnLZXsOGDREQEICNGzdizJgx5bJNIm2uXbuGtWvX4tq1a/Dx8QEATJgwAbt378batWsxb9685+4zNDQU69atQ2BgIFJTUzFz5ky0bdsWFy5cQKVKlQy9C/IjiEjW7t27JwCIhIQEnW3at28vxo4dq/E4OjpajB07Vri6uooqVaqIr776SmRlZYkhQ4YIZ2dnERAQIHbt2qXRj5+fn1i6dKnGsiZNmojp06dr3c4vv/wiWrduLSpXrizc3d1Fjx49xKVLl6TnIyMjBQCNr5SUlCL9PH78WLzzzjvC09NT2NnZidatW4tjx44V2cd33nlHTJw4Ubi5uYmqVatK49KmtNsua63y8/PFvHnzhL+/v7C3txeNGzcWW7du1TkeIYTYunWr8PT0LLKsYcOGwt7eXri7u4vOnTuLrKysUm8jPz9fzJ8/XwQEBAhbW1vh6+sr5syZIz0/c+ZM0aZNm2LHZSjnz58vl+2Q+QMgduzYIT3+6aefBADh5OSk8WVtbS369esnhBAiKSmpyM/ss1/vv/++zm3eu3dPuLi4iFWrVhl792SBh4CJZM7Z2RnOzs7YuXMncnNzS73e+vXr4eHhgWPHjuGdd97B6NGj0bdvX7Rq1QqnTp1CWFgYBg0ahJycnDKPLTs7GzExMThx4gTi4+NhZWWF3r17Q61WAwA++eQTtGzZElFRUdJJ2r6+vkX6mTRpErZt24b169fj1KlTqF27NsLDw3H37t0i++Tk5ISjR49iwYIFmDVrFuLi4rSOrbTbLmutYmNj8c0332DlypX4448/MH78eLz55pvYv3+/znodPHgQwcHB0uPU1FQMGDAAb731FpKSkpCQkIBXX30VQohSb2PKlCn4+OOPMXXqVPz555/49ttvUbVqVen5kJAQHDt27LneO2WRlZWFTp06YcaMGUbdDslTVlYWlEolTp48iTNnzkhfSUlJ+OSTTwAAtWrVQlJSUrFf7733ns5tuLq6om7durh06VJ57ZZ5M3UCJSL9ff/998LNzU3Y29uLVq1aiSlTpoizZ89Kz2ub1So86/PkyRPh5OQkBg0aJC1LTU0VAERiYqK07HlnAJ91+/ZtAUBjJkjbOoWXZWVlCRsbG7Fp0ybp+by8POHj4yMWLFigc5+EEOI///lPsTMCJW1bW7+lqdXjx4+Fo6OjOHz4sEbfw4YNEwMGDNA5np49e4q33npLenzy5EkBQFy5cqVI29JsIzMzU9jZ2Ymvv/5a5zbPnj2rcxuGduLECeHq6ipmzZpl9G2RecMzM4DJyckCgDhw4IDRtvnw4UPh5uYmPvnkE6NtQ044A0hUAfTp0wc3b97Ejz/+iIiICCQkJKB58+ZYt26dznUaN24sfa9UKvHCCy+gUaNG0rKCWaJbt26VeVwXL17EgAEDUKtWLbi4uEgXNjzPidiXL1+GSqVC69atpWU2NjYICQlBUlKSRtvC+wQA3t7eeo1fW7+lqdWlS5eQk5ODrl27SjO0zs7O+Oabb3D58mWd23n06BHs7e2lx02aNEHnzp3RqFEj9O3bF19//TXu3btX6m0kJSUhNzcXnTt31rlNBwcHACjVTO+FCxeK3Ffteb5atGiB+/fvY9q0aTh+/HiJ26OKJSsrS5rZA4CUlBScOXMG165dQ926dTFw4EAMHjwY27dvR0pKCo4dO4bY2Fj8/PPPZdrehAkTsH//fly5cgWHDx9G7969oVQqMWDAAAPulXzxIhCiCsLe3h5du3ZF165dMXXqVAwfPhzTp0/HkCFDtLa3sbHReKxQKDSWKRQKAJAO1wKAlZWVdPixgEql0jmml19+GX5+fvj666/h4+MDtVqNhg0bIi8v73l3r1S07VPh8Ruy3+JqlZWVBQD4+eefUa1aNY117ezsdG7Hw8NDCnjA07AZFxeHw4cPY+/evVi+fDk+/PBDHD16tFTbKAh3xSk4jO7p6Vli27p16xYJ3c/j33//Rb9+/fDSSy9pHOomy3DixAl07NhRehwTEwMAiIyMxLp167B27VrMmTMH7733Hm7cuAEPDw+8+OKLeOmll8q0vevXr2PAgAHIyMiAp6cn2rRpgyNHjpTqvW4JGACJKqigoCCD32nf09MTqamp0uPMzEykpKRobZuRkYHk5GR8/fXXaNu2LQBovQmrra0t8vPzdW4zICAAtra2OHToEPz8/AA8DZ3Hjx/X+359JW27rIKCgmBnZ4dr166hffv2pV6vWbNm2Lhxo8YyhUKB1q1bo3Xr1pg2bRr8/PywY8cOREVFlbiNOnXqwMHBAfHx8Rg+fLjWNhcuXED16tVLdX80W1vbMn+SQlZWFl566SV0794d69atg5UVD0BZmg4dOhT5D2RhNjY2mDlzJmbOnGmQ7W3evNkg/VRUDIBEMpeRkYG+ffvirbfeQuPGjVGpUiWcOHECCxYsQM+ePQ26rU6dOmHdunV4+eWX4erqimnTpkGpVGpt6+bmhhdeeAFfffUVvL29ce3aNUyePLlIO39/fxw9ehRXrlyBs7NzkduwODk5YfTo0Zg4cSLc3d1Ro0YNLFiwADk5ORg2bJhe+1PStsuqUqVKmDBhAsaPHw+1Wo02bdrgwYMHOHToEFxcXBAZGal1vfDwcEyZMgX37t2Dm5sbjh49ivj4eISFhaFKlSo4evQobt++jfr165dqG/b29nj//fcxadIk2NraonXr1rh9+zb++OMPqXYHDx5EWFiYQfa7OM7Ozli4cCFeeeUVne8ZIio/DIBEMufs7IzQ0FAsXbpUOl/O19cXUVFR+OCDDwy6rSlTpiAlJQUvvfQSKleujNmzZ+ucAbSyssLmzZvx7rvvomHDhggMDMSnn36KDh06aLSbMGECIiMjERQUhEePHmnt7+OPP4ZarcagQYPw8OFDtGjRAnv27IGbm5te+1OabZfV7Nmz4enpidjYWPzzzz9wdXVF8+bNi31NGjVqhObNm+O///0vRo4cCRcXFxw4cADLli1DZmYm/Pz8sHjxYnTr1q3U25g6dSqsra0xbdo03Lx5E97e3hg1ahQA4PHjx9i5cyd2795tsP0ujq5PgCCi8qcQxc3HEhFRufr5558xceJEXLhwweiHSb/44gvs2LEDe/fuNep2iMj8cAaQiMiM9OjRAxcvXsSNGzd03pfQUGxsbLB8+XKjboOIzBNnAImIiIgsDC/DIiIiIrIwDIBEREREFoYBkIiIiMjCMAASERERWRgGQCIiIiILwwBIREREZGEYAImIiIgsDAMgERERkYX5fyi1cP3iHYi/AAAAAElFTkSuQmCC' width=640.0/>\n",
       "            </div>\n",
       "        "
      ],
      "text/plain": [
       "Canvas(toolbar=Toolbar(toolitems=[('Home', 'Reset original view', 'home', 'home'), ('Back', 'Back to previous …"
      ]
     },
     "metadata": {},
     "output_type": "display_data"
    }
   ],
   "source": [
    "# calculating time-domain characteristics of pulse\n",
    "center_wavelength = material_properties[ reference_material ][0] / center_frequency # pulse wavelength\n",
    "period = 1. / center_frequency \n",
    "dx_dv_largest = dx_final[0]*1.e-3/ min( [ prop[0] for _, prop in material_properties.items() ] )\n",
    "cfl_max = 0.5 * period / dx_dv_largest # courant number\n",
    "cfl = cfl_max * c_mult\n",
    "\n",
    "# time axis object\n",
    "time_axis = TimeAxis.from_medium( medium, cfl=cfl )\n",
    "time_axis.t_end = simulation_time # this is all we are currently measuring\n",
    "\n",
    "# pulse details\n",
    "# input_pulse = pd.read_csv( input_pulse_file )\n",
    "\n",
    "\n",
    "logger.info( f'Dominant frequency: {center_frequency:2e} Hz' )\n",
    "logger.info( f'Dominant_wavelength: {center_wavelength:.2e} m' )\n",
    "logger.info( f'Sample points per dominant wavelength: {int(center_wavelength/(dx_final[0]*1.e-3))}' )\n",
    "logger.info( f'Dominant time period: {period:.2e} sec' )\n",
    "logger.info( f'Courant factor: {cfl:.2e}' )\n",
    "logger.info( f'Time step: {time_axis.dt:.2e} sec' )\n",
    "\n",
    "# craft the pulse of appropriate central frequency by modifying the frequency of a dummy pulse\n",
    "spread = 5.e-6\n",
    "test_grid = np.linspace( -5.*spread, 5.*spread, 600 )\n",
    "init = pulse.HermiteGauss( test_grid, 0., spread, pulse_hg_order )\n",
    "peaks = spsig.find_peaks( init )[0] # peak locations only \n",
    "T = ( test_grid[peaks[1:]] - test_grid[peaks[:-1]] ).mean() # approx. oscillation period of oscillating pulse\n",
    "new_spread = spread * ( period / T ) # this is the correct HG input parameter for the desired ultrasound pulse frequency\n",
    "\n",
    "t = np.arange( 0., float( time_axis.t_end ), float( time_axis.dt ) )\n",
    "init = pulse.HermiteGauss( t, 3*new_spread, new_spread, pulse_hg_order )\n",
    "\n",
    "plt.figure()\n",
    "plt.plot( t, init, label=f'Single-element pulse (HG{pulse_hg_order})' )\n",
    "plt.xlabel( 'Simulation time (sec) $\\\\longrightarrow$' ) \n",
    "plt.legend()\n",
    "plt.grid()\n",
    "plt.title( f'Input pulse of fequency {center_frequency:.2e} Hz' )"
   ]
  },
  {
   "cell_type": "markdown",
   "id": "b3342faa",
   "metadata": {},
   "source": [
    "# Run simulation"
   ]
  },
  {
   "cell_type": "markdown",
   "id": "00c13c23",
   "metadata": {},
   "source": [
    "## Azimuthal"
   ]
  },
  {
   "cell_type": "code",
   "execution_count": 15,
   "id": "be661bb7",
   "metadata": {},
   "outputs": [],
   "source": [
    "# xloc_w = np.linspace( x_loc1[0], x_loc1[1], n_oscillators )\n",
    "# xloc = np.unique( np.round( grid_ranges[0].size * ( xloc_w - grid_ranges[0].min() ) / ( grid_ranges[0].max() - grid_ranges[0].min() ) ).astype( int ) )\n",
    "\n",
    "xloc = list( np.where( np.abs( grid_ranges[0] ) <= 5. )[0] ) # for a 10 mm source\n",
    "yloc = [ np.argmin( np.abs( grid_ranges[1] + 20. ) ) ] * len( xloc )\n",
    "# print( xloc, yloc )\n",
    "\n",
    "sources = Sources( \n",
    "    positions=( yloc, xloc ), \n",
    "    signals=jnp.stack( [ init ]*len( yloc ) ),\n",
    "    dt=time_axis.dt, \n",
    "    domain=domain_azim\n",
    ")"
   ]
  },
  {
   "cell_type": "code",
   "execution_count": 16,
   "id": "af81a4b2",
   "metadata": {},
   "outputs": [],
   "source": [
    "@jit\n",
    "def compiled_simulator( sources ):\n",
    "    return simulate_wave_propagation( medium, time_axis, sources=sources )"
   ]
  },
  {
   "cell_type": "code",
   "execution_count": 17,
   "id": "c3f1f38f",
   "metadata": {},
   "outputs": [
    {
     "name": "stderr",
     "output_type": "stream",
     "text": [
      "2025-05-21 12:22:59 - jwave [INFO]: Simulation size: (33786, 390, 400)\n"
     ]
    }
   ],
   "source": [
    "pressure = compiled_simulator( sources )\n",
    "pres = np.squeeze( pressure.on_grid )\n",
    "logger.info( f'Simulation size: {pres.shape}' )\n",
    "pmax = min( np.abs( pres.min() ), np.abs( pres.max() ) )\n",
    "pmin = -pmax"
   ]
  },
  {
   "cell_type": "code",
   "execution_count": 18,
   "id": "e9b79dde",
   "metadata": {},
   "outputs": [
    {
     "name": "stdout",
     "output_type": "stream",
     "text": [
      "-1.7184514 1.7184514\n"
     ]
    }
   ],
   "source": [
    "print( pmin, pmax )"
   ]
  },
  {
   "cell_type": "code",
   "execution_count": null,
   "id": "e94c912c",
   "metadata": {},
   "outputs": [
    {
     "name": "stderr",
     "output_type": "stream",
     "text": [
      "2025-05-21 12:52:06 - jwave [INFO]: Crack size: 500 um\n"
     ]
    }
   ],
   "source": [
    "crack_size = int( crack_width*can_radius*1000. )\n",
    "logger.info( f'Crack size: {crack_size} um' )\n",
    "with h5.File( f'crack{crack_size}um/JRImmersion_linesource_thetascan_TEMPLATE.h5', 'w' ) as fid: \n",
    "# with h5.File( f'JRImmersion_headon_nocrack.h5', 'w' ) as fid: \n",
    "    fid.create_dataset( 'image', data=im_azim )\n",
    "    fid.create_dataset( 'pressure', data=pres[::frame_skip,:,:] )\n",
    "    for key, val in {\n",
    "        # 'medium_dict':medium_dict,\n",
    "        'x':grid_ranges[0], \n",
    "        'y':grid_ranges[1], \n",
    "        'xloc':xloc, \n",
    "        'yloc':yloc, \n",
    "        'my_cmap':my_cmap, \n",
    "        'pmin':pmin, \n",
    "        'pmax':pmax,\n",
    "        'csf':csf, \n",
    "        't':t[::frame_skip], \n",
    "        'time_steps':t[::frame_skip].size, \n",
    "        'dt':time_axis.dt*frame_skip\n",
    "    }.items():\n",
    "        fid[ 'pressure' ].attrs[ key ] = val \n",
    "    for key, val in medium_dict.items(): \n",
    "        fid[ 'pressure' ].attrs[val] = key"
   ]
  },
  {
   "cell_type": "markdown",
   "id": "c7d39e42",
   "metadata": {},
   "source": [
    "# Visualization"
   ]
  },
  {
   "cell_type": "code",
   "execution_count": null,
   "id": "f7d1f1b4",
   "metadata": {},
   "outputs": [],
   "source": [
    "# my_cmap='hot'\n",
    "# fig = plt.figure( figsize=( 14, 5 ) )\n",
    "# ax = fig.subplots( 1, 2 )\n",
    "# ax[0].pcolormesh( np.arange( grid_ranges[0].size ), np.arange( grid_ranges[1].size ), im_azim, cmap=my_cmap, alpha=0.5 )\n",
    "# fld = ax[0].imshow( pres[-1,:,:], origin='lower', cmap='seismic' )\n",
    "# ax[0].plot( xloc, yloc, '^k', markersize=2, label='Source' )\n",
    "# fld.set_clim( [ pmin/csf, pmax/csf ] )\n",
    "# ax[0].axis( 'equal' )\n",
    "# ax[0].axis( 'square' )\n",
    "# titl = ax[0].set_title( 'Pressure wave at time step 0' )\n",
    "# ax[0].legend()\n",
    "\n",
    "# ax[1].plot( t/1.e-6, pres[:,yloc,xloc].sum( axis=1 ) )\n",
    "# ax[1].axis( 'tight' )\n",
    "# ax[1].grid()\n",
    "# ax[1].set_title( '2D pulse echo signal' )\n",
    "# plt.suptitle( f'{string_handle} wave profile ({center_frequency/1.e6} MHz pulse)', weight='bold' )\n",
    "\n",
    "\n",
    "# plt.tight_layout()\n",
    "\n",
    "# def animate( n ):\n",
    "#     fld.set_data( pres[n,yloc,xloc].sum( axis=1 ) )\n",
    "#     fld.set_clim( [ pmin/csf, pmax/csf ] )\n",
    "#     titl.set_text( f'Pressure wave at time {(n*time_axis.dt/1.e-6):.2e} us' )\n",
    "#     return fld,\n",
    "\n",
    "# ani = animation.FuncAnimation( fig, animate, interval=10, frames=pres.shape[0], blit=False, repeat=False )\n",
    "# plt.show()"
   ]
  }
 ],
 "metadata": {
  "kernelspec": {
   "display_name": "analysis",
   "language": "python",
   "name": "python3"
  },
  "language_info": {
   "codemirror_mode": {
    "name": "ipython",
    "version": 3
   },
   "file_extension": ".py",
   "mimetype": "text/x-python",
   "name": "python",
   "nbconvert_exporter": "python",
   "pygments_lexer": "ipython3",
   "version": "3.11.12"
  }
 },
 "nbformat": 4,
 "nbformat_minor": 5
}
