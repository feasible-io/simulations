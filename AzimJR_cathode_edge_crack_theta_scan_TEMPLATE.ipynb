{
 "cells": [
  {
   "cell_type": "code",
   "execution_count": 1,
   "id": "ead36527",
   "metadata": {},
   "outputs": [],
   "source": [
    "import numpy as np\n",
    "import pandas as pd\n",
    "import matplotlib.pyplot as plt\n",
    "import matplotlib.animation as animation\n",
    "\n",
    "import scipy.signal as spsig\n",
    "import scipy.ndimage as spimg\n",
    "import h5py as h5\n",
    "# import Pulse as pulse\n",
    "import glob\n",
    "import itertools as itools\n",
    "import functools as ftools\n",
    "\n",
    "# logging and flow control\n",
    "from logzero import logger\n",
    "import multiprocessing\n",
    "\n",
    "# jwave imports\n",
    "from jwave.geometry import Domain, Medium, TimeAxis, Sources, sphere_mask, circ_mask\n",
    "import jax.numpy as jnp\n",
    "from jax import jit\n",
    "from jwave import FourierSeries\n",
    "from jwave.utils import show_field\n",
    "import jax\n",
    "\n",
    "from jax import jit\n",
    "from jax import numpy as jnp\n",
    "from jaxdf import FourierSeries\n",
    "from matplotlib import pyplot as plt\n",
    "\n",
    "from jwave.acoustics import simulate_wave_propagation\n",
    "from jwave.geometry import *\n",
    "\n",
    "import Pulse as pulse\n",
    "\n",
    "# pyvista/meshing imports\n",
    "import pyvista as pv"
   ]
  },
  {
   "cell_type": "code",
   "execution_count": 2,
   "id": "0ffafb06",
   "metadata": {},
   "outputs": [],
   "source": [
    "jax.config.update('jax_default_device', jax.devices('cpu')[0])\n",
    "jax.config.update( 'jax_enable_x64', False )\n",
    "%matplotlib widget"
   ]
  },
  {
   "cell_type": "markdown",
   "id": "c9b926ab",
   "metadata": {},
   "source": [
    "# User edit\n",
    "You should not have to change anyting beyond the next cell. "
   ]
  },
  {
   "cell_type": "code",
   "execution_count": 3,
   "id": "55a91be8",
   "metadata": {},
   "outputs": [],
   "source": [
    "############## user edit #######################\n",
    "\n",
    "meshfile = './AcrylicWedge.stl'\n",
    "maskfile = './BaselineHires3D.h5'\n",
    "string_handle = 'Azimuthal'\n",
    "padding_fraction = 0.1\n",
    "num_points_along_largest_dimension = 800\n",
    "pml_fraction = 0.5 # fraction of the buffer region outside the object used as PML\n",
    "\n",
    "# multiprocess parameters\n",
    "num_processes = 10\n",
    "\n",
    "# material properties\n",
    "materials = [ 'steel', 'acrylic', 'air', 'roll' ]\n",
    "speeds = [ 5500., 2730., 341., 1041.865 ]\n",
    "densities = [ 7850., 1180., 1.293, 1933.949 ] # jelly roll parameters for SOC = 0.3\n",
    "\n",
    "# can/cell geometry\n",
    "can_thickness = 0.16\n",
    "can_center = 21.5\n",
    "can_radius = 10.5\n",
    "can_height = 70.\n",
    "roll_inner_radius = 2.\n",
    "cathode_location = -3.*np.pi/4. #+ ( TEMPLATE. / 21. ) * 115.*np.pi/180. \n",
    "cathode_thickness = 0.3 \n",
    "cathode_wrapping_sense = 1.\n",
    "\n",
    "# pulse characteristics\n",
    "input_pulse_file = '/home/smaddali/simulations/input_signal.csv'\n",
    "center_frequency = 2.e6 # Hz\n",
    "pulse_hg_order = 3 # order of the Hermite-Gauss pulse\n",
    "simulation_time = 30.e-6 # we simulate only 30 us for now, a little beyond what we currently measure.\n",
    "c_mult = 0.05   # multiplier for max. Courant factor, to prevent diverging simulation. \n",
    "\n",
    "# azimuthal source details (this is a line source)\n",
    "x_loc1 = [ -5., 5. ] # range of line source\n",
    "y_loc1 = -11. \n",
    "# n_oscillators = 35\n",
    "\n",
    "# axial source details (focus)\n",
    "y_loc2, z_loc2 = -11., 10.\n",
    "focal_length = 11.\n",
    "num_elements = 32\n",
    "element_separation = 0.3 # mm in Y\n",
    "\n",
    "# display/visualization parameters\n",
    "csf = 5. # color scale factor\n",
    "frame_skip = 5\n",
    "\n",
    "################################################"
   ]
  },
  {
   "cell_type": "markdown",
   "id": "e3a6d6df",
   "metadata": {},
   "source": [
    "# Stop!\n",
    "Don't edit anything beyond this cell, unless you know what you're doing. "
   ]
  },
  {
   "cell_type": "markdown",
   "id": "5a39da67",
   "metadata": {},
   "source": [
    "# Acoustic impedance and reflectivity"
   ]
  },
  {
   "cell_type": "code",
   "execution_count": 4,
   "id": "8cf5d082",
   "metadata": {},
   "outputs": [
    {
     "data": {
      "text/plain": [
       "[('steel', 'acrylic'),\n",
       " ('steel', 'air'),\n",
       " ('steel', 'roll'),\n",
       " ('acrylic', 'air'),\n",
       " ('acrylic', 'roll'),\n",
       " ('air', 'roll')]"
      ]
     },
     "execution_count": 4,
     "metadata": {},
     "output_type": "execute_result"
    }
   ],
   "source": [
    "list( itools.combinations( materials, 2 )  )"
   ]
  },
  {
   "cell_type": "code",
   "execution_count": 5,
   "id": "8d3bcc6b",
   "metadata": {},
   "outputs": [],
   "source": [
    "material_properties = { key: [ val1, val2 ] for key, val1, val2 in zip( materials, speeds, densities ) }\n",
    "reflectivity = { \n",
    "    key: ( np.prod( material_properties[ key[0] ] ) - np.prod( material_properties[ key[1] ] ) ) / ( np.prod( material_properties[ key[0] ] ) + np.prod( material_properties[ key[1] ] ) )\n",
    "    for key in list( itools.combinations( materials, 2 ) )\n",
    "}"
   ]
  },
  {
   "cell_type": "code",
   "execution_count": 6,
   "id": "2bee0344",
   "metadata": {},
   "outputs": [
    {
     "data": {
      "text/plain": [
       "{'steel': [5500.0, 7850.0],\n",
       " 'acrylic': [2730.0, 1180.0],\n",
       " 'air': [341.0, 1.293],\n",
       " 'roll': [1041.865, 1933.949]}"
      ]
     },
     "execution_count": 6,
     "metadata": {},
     "output_type": "execute_result"
    }
   ],
   "source": [
    "material_properties"
   ]
  },
  {
   "cell_type": "code",
   "execution_count": 7,
   "id": "5b323fa9",
   "metadata": {},
   "outputs": [
    {
     "data": {
      "text/plain": [
       "{('steel', 'acrylic'): 0.8611357777758619,\n",
       " ('steel', 'air'): 0.9999795757499783,\n",
       " ('steel', 'roll'): 0.9108246240556087,\n",
       " ('acrylic', 'air'): 0.9997262974728385,\n",
       " ('acrylic', 'roll'): 0.23040754946765896,\n",
       " ('air', 'roll'): -0.9995624462506273}"
      ]
     },
     "execution_count": 7,
     "metadata": {},
     "output_type": "execute_result"
    }
   ],
   "source": [
    "reflectivity"
   ]
  },
  {
   "cell_type": "markdown",
   "id": "e910c4c2",
   "metadata": {},
   "source": [
    "# Grid details\n",
    "Using the mesh for the acrylic wedge and manually adding the can to it, in order to generate the mask for the wedge-can system. \n",
    "This works better than using the wedge-can mesh because of ambiguous definitions of \"inside\" and \"outside\" of the mesh. "
   ]
  },
  {
   "cell_type": "code",
   "execution_count": 8,
   "id": "b2fbab79",
   "metadata": {},
   "outputs": [
    {
     "name": "stderr",
     "output_type": "stream",
     "text": [
      "2025-05-19 13:03:51 - jwave [INFO]: Domain size: (546, 302, 800) pixels. \n",
      "2025-05-19 13:03:51 - jwave [INFO]: PML buffer size: 18 pixels. \n",
      "2025-05-19 13:03:51 - jwave [INFO]: Step size: [0.0962499999999995, 0.09607339449541234, 0.09624999999999773] mm. \n"
     ]
    }
   ],
   "source": [
    "# dimensions and grid size calculations\n",
    "mesh = pv.read( meshfile )\n",
    "bounds = np.array( mesh.bounds ).reshape( -1, 2 )\n",
    "\n",
    "# the can is added in the y-direction. \n",
    "bounds[1,1] += 21. # add diameter of can\n",
    "bounds[2,:] = [ -35., 35. ]\n",
    "largest_dimension = np.diff( bounds, axis=1 ).max()\n",
    "excess_padding = largest_dimension * padding_fraction / 2. \n",
    "dx_mm = ( largest_dimension + 2*excess_padding ) / num_points_along_largest_dimension # spatial step size\n",
    "pml_size = np.round( excess_padding * pml_fraction / dx_mm ).astype( int )\n",
    "grid_ranges = [ \n",
    "    np.arange( mn, mx, dx_mm )\n",
    "    for mn, mx in list( \n",
    "        bounds + np.array( [ -excess_padding, excess_padding ] )[np.newaxis,:].repeat( 3, axis=0 )\n",
    "    )\n",
    "]\n",
    "for n in range( len( grid_ranges ) ):\n",
    "    if grid_ranges[n].size%2 != 0: \n",
    "        # grid_ranges[n] = np.concatenate( ( grid_ranges[n], np.array( [ grid_ranges[n][-1] + dx_mm ] ) ) )\n",
    "        grid_ranges[n] = np.linspace( grid_ranges[n].min(), grid_ranges[n].max(), grid_ranges[n].size+1 )\n",
    "\n",
    "dx_final = [ ( ar[1:]-ar[:-1] ).mean() for ar in grid_ranges ]\n",
    "\n",
    "shp = tuple( ar.shape[0] for ar in grid_ranges )\n",
    "shp = ( shp[1], shp[0], shp[2] )\n",
    "logger.info( f'Domain size: {shp} pixels. ' )\n",
    "logger.info( f'PML buffer size: {pml_size} pixels. ')\n",
    "logger.info( f'Step size: {dx_final} mm. ')\n"
   ]
  },
  {
   "cell_type": "code",
   "execution_count": 9,
   "id": "141123fa",
   "metadata": {},
   "outputs": [],
   "source": [
    "# # create function that determines if points are inside can\n",
    "def inside_can( pts, center, radius, thickness, height ):\n",
    "    rho = np.sqrt( pts[:,0]**2 + ( pts[:,1]-center )**2 )\n",
    "    return ftools.reduce( np.logical_and, [ rho >= radius - thickness, rho <= radius, np.abs( pts[:,-1] ) < height/2. ] )\n",
    "\n",
    "def jelly_roll_volume( pts, center, radius, radius_inner, thickness, height ):\n",
    "    rho = np.sqrt( pts[:,0]**2 + ( pts[:,1]-center )**2 )\n",
    "    return ftools.reduce( np.logical_and, [ rho < radius - thickness, rho >= radius_inner, np.abs( pts[:,-1] ) < height/2. ] ), rho\n",
    "        \n",
    "def jelly_roll_with_cathode_edge( \n",
    "    pts, center, radius, \n",
    "    radius_inner, can_thickness, can_height, \n",
    "    theta0=0., cathode_thickness=0.1, sense=1, \n",
    "    crack_edge_dist=None, \n",
    "    crack_depth=None, \n",
    "    crack_width=None\n",
    "):\n",
    "    rho = np.sqrt( pts[:,0]**2 + ( pts[:,1]-center )**2 )\n",
    "    R = np.array( [ [ np.cos( theta0 ), np.sin( theta0 ) ], [ np.cos( np.pi/2. + theta0 ), np.sin( np.pi/2. + theta0 ) ] ] )\n",
    "    pts_relative = pts[:,:2] # get 2D points\n",
    "    pts_relative[:,-1] = pts_relative[:,-1] - center\n",
    "    pts_relative = pts_relative.T # make this a 2xN array\n",
    "    pts_proj = R @ pts_relative\n",
    "    theta = np.arctan2( pts_proj[1], pts_proj[0] ) # canonical range from -pi to pi\n",
    "    # dtheta = np.arccos( ( radius - can_thickness - cathode_thickness ) / ( radius - can_thickness ) )\n",
    "    # print( f'dtheta = {dtheta*180/np.pi}' )\n",
    "    inside_roll = ftools.reduce( \n",
    "        np.logical_and, \n",
    "        [\n",
    "            rho < radius - can_thickness, \n",
    "            np.abs( pts[:,-1] ) < can_height/2., \n",
    "            rho >= radius_inner\n",
    "        ]\n",
    "    )\n",
    "    cathode_segment = ftools.reduce( \n",
    "        np.logical_and, \n",
    "        [ \n",
    "            inside_roll,\n",
    "            pts_proj[0] < can_radius - can_thickness - cathode_thickness, \n",
    "            # np.abs( theta ) > dtheta\n",
    "        ]\n",
    "    )\n",
    "    final = ftools.reduce( \n",
    "        np.logical_or, \n",
    "        [ \n",
    "            cathode_segment, \n",
    "            np.logical_and( np.sign( theta )==np.sign( sense ), inside_roll )\n",
    "        ]\n",
    "    )\n",
    "    if crack_depth is None and crack_edge_dist is None and crack_width is None: # no crack in jelly roll\n",
    "        return final\n",
    "    assert all( [ isinstance( var, float ) for var in [ crack_depth, crack_width, crack_edge_dist ] ] ), 'Crack parameters should be floats. '\n",
    "    theta_d = theta0 + crack_edge_dist # the latter in radians\n",
    "    R = np.array( [ [ np.cos( theta_d ), np.sin( theta_d ) ], [ np.cos( np.pi/2. + theta_d ), np.sin( np.pi/2. + theta_d ) ] ] )\n",
    "    pts_proj = R @ pts_relative\n",
    "    theta = np.arctan2( pts_proj[1], pts_proj[0] ) # canonical range from -pi to pi\n",
    "    crack_volume = ftools.reduce( \n",
    "        np.logical_and, \n",
    "        [ \n",
    "            np.abs( theta ) < crack_width/2., \n",
    "            rho >= radius - can_thickness - crack_depth, \n",
    "            rho <  radius - can_thickness\n",
    "        ]\n",
    "    )\n",
    "    final = np.logical_and( final, np.logical_not( crack_volume ) ) # carve out a void where the crack is\n",
    "    return final"
   ]
  },
  {
   "cell_type": "markdown",
   "id": "3f755e5c",
   "metadata": {},
   "source": [
    "# Animuthal and axial slices"
   ]
  },
  {
   "cell_type": "code",
   "execution_count": 10,
   "id": "e0d50f83",
   "metadata": {},
   "outputs": [],
   "source": [
    "xygrid = np.meshgrid( *( grid_ranges[:2] ) )\n",
    "pts_azim = np.concatenate( tuple( ar.ravel()[:,np.newaxis] for ar in xygrid ), axis=1 )\n",
    "pts_azim = np.concatenate( ( pts_azim, np.zeros( ( pts_azim.shape[0], 1 ) ) ), axis=1 )\n",
    "\n",
    "yzgrid = np.meshgrid( *(grid_ranges[1:] ) )\n",
    "pts_axial = np.concatenate( tuple( ar.ravel()[:,np.newaxis] for ar in yzgrid ), axis=1 )\n",
    "pts_axial = np.concatenate( ( np.zeros( ( pts_axial.shape[0], 1 ) ), pts_axial ), axis=1 )"
   ]
  },
  {
   "cell_type": "code",
   "execution_count": 11,
   "id": "d824a741",
   "metadata": {},
   "outputs": [
    {
     "name": "stderr",
     "output_type": "stream",
     "text": [
      "Selecting Enclosed Points: 100%|██████████[00:00<00:00]\n",
      "Selecting Enclosed Points: 100%|██████████[00:01<00:00]\n"
     ]
    }
   ],
   "source": [
    "def get_domain_image( pts, mesh, shape, inside_can_function ):\n",
    "    can_region = inside_can_function( pts ).reshape( shape )\n",
    "    wedge_region = pv.PolyData( pts ).select_enclosed_points( mesh, progress_bar=True )\n",
    "    wedge_region = wedge_region['SelectedPoints'].reshape( shape )\n",
    "    wedge_region = spimg.binary_erosion( spimg.binary_dilation( wedge_region.astype( bool ) ) ).astype( np.uint8 )\n",
    "    im = wedge_region + 2*can_region\n",
    "    im[ np.where( im==3 ) ] = 2\n",
    "    return im\n",
    "\n",
    "\n",
    "inside_can_function = ftools.partial( inside_can, center=can_center, radius=can_radius, thickness=can_thickness, height=can_height )\n",
    "im_azim = get_domain_image( pts_azim, mesh, ( grid_ranges[1].size, grid_ranges[0].size ), inside_can_function )\n",
    "im_axial = get_domain_image( pts_axial, mesh, ( grid_ranges[2].size, grid_ranges[1].size ), inside_can_function )"
   ]
  },
  {
   "cell_type": "code",
   "execution_count": 12,
   "id": "4b3a1062",
   "metadata": {},
   "outputs": [],
   "source": [
    "# jr_azim = jelly_roll_volume( pts_azim, can_center, can_radius, roll_inner_radius, can_thickness, can_height )[0].reshape( grid_ranges[1].size, grid_ranges[0].size )\n",
    "jr_azim = jelly_roll_with_cathode_edge( \n",
    "    pts_azim,\n",
    "    can_center, \n",
    "    can_radius, \n",
    "    roll_inner_radius, \n",
    "    can_thickness, \n",
    "    can_height, \n",
    "    theta0=cathode_location, \n",
    "    cathode_thickness=cathode_thickness, \n",
    "    sense=cathode_wrapping_sense, \n",
    "    crack_edge_dist=-25.*np.pi/180., \n",
    "    crack_depth=0.5, \n",
    "    crack_width=3.*np.pi/180.\n",
    ").reshape( grid_ranges[1].size, grid_ranges[0].size )\n",
    "assert im_azim.max()==2., 'Rogue pixels in im_azim. '\n",
    "im_azim = im_azim + 3.*jr_azim\n",
    "im_azim[ np.where( np.abs( im_azim-4. ) < 0.5 ) ] = 3.\n",
    "\n",
    "jr_axial = jelly_roll_with_cathode_edge( \n",
    "    pts_axial, \n",
    "    can_center, \n",
    "    can_radius, \n",
    "    roll_inner_radius, \n",
    "    can_thickness, \n",
    "    can_height, \n",
    "    theta0=cathode_location, \n",
    "    cathode_thickness=cathode_thickness, \n",
    "    sense=cathode_wrapping_sense\n",
    ").reshape( grid_ranges[2].size, grid_ranges[1].size )\n",
    "assert im_axial.max()==2., 'Rogue pixels in im_axial. '\n",
    "im_axial = im_axial + 3.*jr_axial\n",
    "im_axial[ np.where( np.abs( im_axial-4. ) < 0.5 ) ] = 3."
   ]
  },
  {
   "cell_type": "code",
   "execution_count": 13,
   "id": "a3153dca",
   "metadata": {},
   "outputs": [
    {
     "data": {
      "application/vnd.jupyter.widget-view+json": {
       "model_id": "c7b98532ed3f4a0fafd77ea68e7276f8",
       "version_major": 2,
       "version_minor": 0
      },
      "image/png": "[encoded data removed]",
      "text/html": [
       "\n",
       "            <div style=\"display: inline-block;\">\n",
       "                <div class=\"jupyter-widgets widget-label\" style=\"text-align: center;\">\n",
       "                    Figure\n",
       "                </div>\n",
       "                <img src='data:image/png;base64,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' width=700.0/>\n",
       "            </div>\n",
       "        "
      ],
      "text/plain": [
       "Canvas(toolbar=Toolbar(toolitems=[('Home', 'Reset original view', 'home', 'home'), ('Back', 'Back to previous …"
      ]
     },
     "metadata": {},
     "output_type": "display_data"
    }
   ],
   "source": [
    "fig = plt.figure( figsize=( 7, 6 ) )\n",
    "ax = fig.subplots( 1, 2 )\n",
    "my_cmap = 'hot'\n",
    "\n",
    "ax[0].pcolormesh( grid_ranges[0], grid_ranges[1], im_azim, cmap=my_cmap, alpha=0.5 )\n",
    "# ax[0].contour( grid_ranges[0], grid_ranges[1], spimg.gaussian_filter( im_azim, sigma=1. ), levels=[ 0.15 ], colors='k' )\n",
    "\n",
    "im1 = ax[1].pcolormesh( grid_ranges[1], grid_ranges[2], im_axial, cmap=my_cmap, alpha=0.5 )\n",
    "cbar = fig.colorbar( im1, ax=ax[1], fraction=0.046, pad=0.05 )\n",
    "cbar.set_ticks( [ 0., 1., 2., 3. ] )\n",
    "cbar.set_ticklabels( [ 'Air', 'Wedge', 'Can', 'Jelly roll' ] )\n",
    "# ax[1].contour( grid_ranges[1], grid_ranges[2], spimg.gaussian_filter( im_axial, sigma=1. ), levels=[ 0.15 ], colors='k' )\n",
    "\n",
    "\n",
    "for myax, titl in zip( ax, ['Azimuthal', 'Axial'] ):\n",
    "    myax.axis( 'tight' )\n",
    "    myax.set_title( f'{titl} plane' )\n",
    "\n",
    "plt.suptitle( 'Simulation views', weight='bold' )\n",
    "plt.tight_layout()\n"
   ]
  },
  {
   "cell_type": "markdown",
   "id": "e0ef44ea",
   "metadata": {},
   "source": [
    "# `jwave` definitions\n",
    "\n",
    "## Cross section simulations\n",
    "\n",
    "### Azimuthal"
   ]
  },
  {
   "cell_type": "code",
   "execution_count": null,
   "id": "e8fd84f4",
   "metadata": {},
   "outputs": [],
   "source": [
    "medium_dict = { 0:'air', 1:'acrylic', 2:'steel', 3:'roll' }\n",
    "def get_medium_properties( im, medium_dict ):\n",
    "    def get_region( in_data ):\n",
    "        return ( in_data[0]==in_data[1] )*in_data[2]\n",
    "    sound_speed_map = ftools.reduce( \n",
    "        lambda x, y: x + y, \n",
    "        [ \n",
    "            get_region( [ im, idx, material_properties[ medium_dict[ idx ] ][0] ] )\n",
    "            for idx in np.unique( im )\n",
    "        ]\n",
    "    )\n",
    "    density_map = ftools.reduce( \n",
    "        lambda x, y: x + y, \n",
    "        [ \n",
    "            get_region( [ im, idx, material_properties[ medium_dict[ idx ] ][1] ] )\n",
    "            for idx in np.unique( im )\n",
    "        ]\n",
    "    )\n",
    "    return sound_speed_map, density_map\n",
    "\n",
    "speed_map, density_map = get_medium_properties( im_azim, medium_dict )\n",
    "dx = ( float( dx_final[1] )*1.e-3, float( dx_final[0] )*1.e-3 )\n",
    "domain_azim = Domain( ( shp[0], shp[1] ), dx )\n",
    "speed_field = FourierSeries( jnp.expand_dims( speed_map, axis=-1 ), domain=domain_azim )\n",
    "density_field = FourierSeries( jnp.expand_dims( density_map, axis=-1 ), domain=domain_azim )\n",
    "\n",
    "medium = Medium(domain=domain_azim, sound_speed=speed_field, density=density_field, pml_size=int( pml_size ), attenuation=0.95 )"
   ]
  },
  {
   "cell_type": "code",
   "execution_count": null,
   "id": "00deabd2",
   "metadata": {},
   "outputs": [],
   "source": [
    "# show_field( speed_map )\n",
    "# show_field( density_map )"
   ]
  },
  {
   "cell_type": "code",
   "execution_count": null,
   "id": "bf78ed5e",
   "metadata": {},
   "outputs": [],
   "source": [
    "# with h5.File( 'Sections.h5', 'a' ) as fid: \n",
    "#     fid.create_group( 'azim' )\n",
    "#     fid[ 'azim' ].create_dataset( 'speed_map', data=speed_map )\n",
    "#     fid[ 'azim' ].create_dataset( 'density_map', data=density_map )\n",
    "#     for key, val in { \n",
    "#         'x':grid_ranges[0], \n",
    "#         'y':grid_ranges[1], \n",
    "#         'z':grid_ranges[2]\n",
    "#     }.items():\n",
    "#         fid[ 'azim' ].attrs[ key ] = val"
   ]
  },
  {
   "cell_type": "markdown",
   "id": "0730f1ff",
   "metadata": {},
   "source": [
    "## Time domain"
   ]
  },
  {
   "cell_type": "code",
   "execution_count": null,
   "id": "a6a4659a",
   "metadata": {},
   "outputs": [],
   "source": [
    "# calculating time-domain characteristics of pulse\n",
    "center_wavelength = material_properties[ 'acrylic' ][0] / center_frequency # pulse wavelength\n",
    "period = 1. / center_frequency \n",
    "dx_dv_largest = dx_mm*1.e-3/ min( [ prop[0] for _, prop in material_properties.items() ] )\n",
    "cfl_max = 0.5 * period / dx_dv_largest # courant number\n",
    "cfl = cfl_max * c_mult\n",
    "\n",
    "# time axis object\n",
    "time_axis = TimeAxis.from_medium( medium, cfl=cfl )\n",
    "time_axis.t_end = simulation_time # this is all we are currently measuring\n",
    "\n",
    "# pulse details\n",
    "# input_pulse = pd.read_csv( input_pulse_file )\n",
    "\n",
    "\n",
    "logger.info( f'Dominant frequency: {center_frequency:2e} Hz' )\n",
    "logger.info( f'Dominant_wavelength: {center_wavelength:.2e} m' )\n",
    "logger.info( f'Sample points per dominant wavelength: {int(center_wavelength/(dx_mm*1.e-3))}' )\n",
    "logger.info( f'Dominant time period: {period:.2e} sec' )\n",
    "logger.info( f'Courant factor: {cfl:.2e}' )\n",
    "logger.info( f'Time step: {time_axis.dt:.2e} sec' )\n",
    "\n",
    "t = np.arange( 0., float( time_axis.t_end ), float( time_axis.dt ) )\n",
    "init = pulse.HermiteGauss( t, 1.5*period, period/2., pulse_hg_order )\n",
    "plt.figure()\n",
    "plt.plot( t, init, label=f'Single-element pulse (HG{pulse_hg_order})' )\n",
    "plt.xlabel( 'Simulation time (sec) $\\\\longrightarrow$' ) \n",
    "plt.legend()\n",
    "plt.grid()\n",
    "\n",
    "# create phased array for focused probe\n",
    "# array_extent = element_separation * ( num_elements - 1 )\n",
    "# element_locations = z_loc2 + np.linspace( -array_extent/2., array_extent/2., num_elements )\n",
    "# delta_f = focal_length - np.sqrt( focal_length**2 - ( element_locations - z_loc2 )**2 )\n",
    "# delay = -delta_f * 1.e-3 / material_properties[ 'acrylic' ][0] # time delay in seconds\n",
    "# delay -= delay.min() # generates a focused wavefront \n",
    "# delay_steps = np.round( delay / time_axis.dt ).astype( int )\n",
    "\n",
    "# sources = [ \n",
    "#     np.roll( init, dstep )\n",
    "#     for dstep in delay_steps\n",
    "# ]\n",
    "# positions = [ \n",
    "#     element_locations, \n",
    "#     y_loc2]\n",
    "\n",
    "# plt.figure()\n",
    "# for n, src in enumerate( sources ):\n",
    "#     plt.plot( t, n+src )\n",
    "\n",
    "# sources = Sources( \n",
    "#     positions=( ( y_loc,  ),  ( x_loc, ) ), \n",
    "#     signals=jnp.stack( [ init] ),\n",
    "#     dt=time_axis.dt, \n",
    "#     domain=domain_azim\n",
    "# )"
   ]
  },
  {
   "cell_type": "markdown",
   "id": "b3342faa",
   "metadata": {},
   "source": [
    "# Run simulation"
   ]
  },
  {
   "cell_type": "markdown",
   "id": "00c13c23",
   "metadata": {},
   "source": [
    "## Azimuthal"
   ]
  },
  {
   "cell_type": "code",
   "execution_count": null,
   "id": "be661bb7",
   "metadata": {},
   "outputs": [],
   "source": [
    "# xloc_w = np.linspace( x_loc1[0], x_loc1[1], n_oscillators )\n",
    "# xloc = np.unique( np.round( grid_ranges[0].size * ( xloc_w - grid_ranges[0].min() ) / ( grid_ranges[0].max() - grid_ranges[0].min() ) ).astype( int ) )\n",
    "\n",
    "xloc = np.round( grid_ranges[0].size * ( x_loc1 - grid_ranges[0].min() ) / ( grid_ranges[0].max() - grid_ranges[0].min() ) ).astype( int )\n",
    "xloc = np.arange( xloc[0], 1+xloc[1] )\n",
    "yloc = 1 + np.array( [ np.argmin( np.abs( grid_ranges[1] - y_loc1 ) ) ]*xloc.size )\n",
    "\n",
    "# print( xloc, yloc )\n",
    "\n",
    "sources = Sources( \n",
    "    positions=( yloc, xloc ), \n",
    "    signals=jnp.stack( [ init ]*yloc.size ),\n",
    "    dt=time_axis.dt, \n",
    "    domain=domain_azim\n",
    ")"
   ]
  },
  {
   "cell_type": "code",
   "execution_count": null,
   "id": "af81a4b2",
   "metadata": {},
   "outputs": [],
   "source": [
    "@jit\n",
    "def compiled_simulator( sources ):\n",
    "    return simulate_wave_propagation( medium, time_axis, sources=sources )"
   ]
  },
  {
   "cell_type": "code",
   "execution_count": null,
   "id": "c3f1f38f",
   "metadata": {},
   "outputs": [],
   "source": [
    "pressure = compiled_simulator( sources )\n",
    "pres = np.squeeze( pressure.on_grid )\n",
    "logger.info( f'Simulation size: {pres.shape}' )\n",
    "pmax = min( np.abs( pres.min() ), np.abs( pres.max() ) )\n",
    "pmin = -pmax"
   ]
  },
  {
   "cell_type": "code",
   "execution_count": null,
   "id": "e9b79dde",
   "metadata": {},
   "outputs": [],
   "source": [
    "print( pmin, pmax )"
   ]
  },
  {
   "cell_type": "code",
   "execution_count": null,
   "id": "e94c912c",
   "metadata": {},
   "outputs": [],
   "source": [
    "with h5.File( f'JR_cathode_edge_bigcrack_30us_linesource_thetascan_TEMPLATE.h5', 'w' ) as fid: \n",
    "    fid.create_dataset( 'image', data=im_azim )\n",
    "    fid.create_dataset( 'pressure', data=pres[::frame_skip,:,:] )\n",
    "    for key, val in {\n",
    "        'x':grid_ranges[0], \n",
    "        'y':grid_ranges[1], \n",
    "        'xloc':xloc, \n",
    "        'yloc':yloc, \n",
    "        'my_cmap':my_cmap, \n",
    "        'pmin':pmin, \n",
    "        'pmax':pmax,\n",
    "        'csf':csf, \n",
    "        't':t[::frame_skip], \n",
    "        'time_steps':t[::frame_skip].size, \n",
    "        'dt':time_axis.dt*frame_skip\n",
    "    }.items():\n",
    "        fid[ 'pressure' ].attrs[ key ] = val \n"
   ]
  },
  {
   "cell_type": "markdown",
   "id": "c7d39e42",
   "metadata": {},
   "source": [
    "# Visualization"
   ]
  },
  {
   "cell_type": "code",
   "execution_count": null,
   "id": "f7d1f1b4",
   "metadata": {},
   "outputs": [],
   "source": [
    "# fig = plt.figure( figsize=( 14, 5 ) )\n",
    "# ax = fig.subplots( 1, 2 )\n",
    "# # ax[0].contour( im_azim, levels=[ 0.5 ], colors='black' )\n",
    "# ax[0].pcolormesh( np.arange( grid_ranges[0].size ), np.arange( grid_ranges[1].size ), im_azim, cmap=my_cmap, alpha=0.25 )\n",
    "# fld = ax[0].imshow( pres[-100,:,:], origin='lower', cmap='seismic' )\n",
    "# ax[0].plot( xloc, yloc, '^k', markersize=3, label='Source' )\n",
    "# fld.set_clim( [ pmin/csf, pmax/csf ] )\n",
    "# ax[0].axis( 'equal' )\n",
    "# ax[0].axis( 'square' )\n",
    "# titl = ax[0].set_title( 'Pressure wave at time step 0' )\n",
    "# ax[0].legend()\n",
    "\n",
    "# ax[1].plot( t/1.e-6, pres[:,yloc+4, xloc] )\n",
    "# ax[1].axis( 'tight' )\n",
    "# ax[1].grid()\n",
    "# ax[1].set_title( '2D pulse echo signal' )\n",
    "# plt.suptitle( f'{string_handle} wave profile ({center_frequency/1.e6} MHz pulse)', weight='bold' )\n",
    "\n",
    "\n",
    "# plt.tight_layout()\n",
    "\n",
    "# # def animate( n ):\n",
    "# #     fld.set_data( pres[n,:,:] )\n",
    "# #     fld.set_clim( [ pmin/csf, pmax/csf ] )\n",
    "# #     titl.set_text( f'Pressure wave at time {(n*time_axis.dt/1.e-6):.2e} us' )\n",
    "# #     return fld,\n",
    "\n",
    "# # ani = animation.FuncAnimation( fig, animate, interval=10, frames=pres.shape[0], blit=False, repeat=False )\n",
    "# # plt.show()"
   ]
  }
 ],
 "metadata": {
  "kernelspec": {
   "display_name": "analysis",
   "language": "python",
   "name": "python3"
  },
  "language_info": {
   "codemirror_mode": {
    "name": "ipython",
    "version": 3
   },
   "file_extension": ".py",
   "mimetype": "text/x-python",
   "name": "python",
   "nbconvert_exporter": "python",
   "pygments_lexer": "ipython3",
   "version": "3.11.12"
  }
 },
 "nbformat": 4,
 "nbformat_minor": 5
}
